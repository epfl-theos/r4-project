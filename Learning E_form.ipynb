{
 "cells": [
  {
   "cell_type": "code",
   "execution_count": 54,
   "id": "e24a9ae9",
   "metadata": {},
   "outputs": [
    {
     "name": "stderr",
     "output_type": "stream",
     "text": [
      "../0. kernel-tutorials/utilities/colorbars.py:19: UserWarning: Trying to register the cmap 'cbarHot' which already exists.\n",
      "  plt.register_cmap(cmap=self.cbar)\n",
      "../0. kernel-tutorials/utilities/colorbars.py:19: UserWarning: Trying to register the cmap 'cbarBWR' which already exists.\n",
      "  plt.register_cmap(cmap=self.cbar)\n",
      "../0. kernel-tutorials/utilities/colorbars.py:35: UserWarning: Trying to register the cmap 'cbarPhi' which already exists.\n",
      "  plt.register_cmap(cmap=self.cbar)\n",
      "../0. kernel-tutorials/utilities/colorbars.py:19: UserWarning: Trying to register the cmap 'cbarHot_0.3_1.05' which already exists.\n",
      "  plt.register_cmap(cmap=self.cbar)\n",
      "../0. kernel-tutorials/utilities/colorbars.py:19: UserWarning: Trying to register the cmap 'bone_r_0.2_1.0' which already exists.\n",
      "  plt.register_cmap(cmap=self.cbar)\n",
      "../0. kernel-tutorials/utilities/colorbars.py:19: UserWarning: Trying to register the cmap 'Reds_0.3_1.0' which already exists.\n",
      "  plt.register_cmap(cmap=self.cbar)\n",
      "../0. kernel-tutorials/utilities/colorbars.py:19: UserWarning: Trying to register the cmap 'Blues_0.3_1.0' which already exists.\n",
      "  plt.register_cmap(cmap=self.cbar)\n"
     ]
    }
   ],
   "source": [
    "%run ../modules.ipynb\n",
    "# Change this cell to change the kernel function throughout\n",
    "\n",
    "#tutorial\n",
    "sys.path.append('../0. kernel-tutorials/')\n",
    "# Local Utilities for Notebook\n",
    "from utilities.kernels import linear_kernel, gaussian_kernel\n",
    "from utilities.general import load_variables, get_stats\n",
    "from utilities.plotting import (\n",
    "    plot_base, \n",
    "    plot_projection,\n",
    "    plot_regression,\n",
    "    plot_simple,\n",
    "    get_cmaps,\n",
    "    table_from_dict,\n",
    "    check_mirrors,\n",
    ")\n",
    "cmaps = get_cmaps()\n",
    "plt.style.use(\"../0. kernel-tutorials/utilities/kernel_pcovr.mplstyle\")\n",
    "dbl_fig = (2 * plt.rcParams[\"figure.figsize\"][0], plt.rcParams[\"figure.figsize\"][1])\n",
    "\n",
    "kernel_params = {\"kernel\": \"rbf\", \"gamma\": 1}\n",
    "kernel_func = partial(rbf_kernel, gamma=1)\n",
    "kernel_type = \"gaussian\"\n",
    "\n",
    "n_FPS = 7000\n",
    "n_frames = 50000\n",
    "\n",
    "alphas=np.logspace(-0, -6, 30)"
   ]
  },
  {
   "cell_type": "code",
   "execution_count": 55,
   "id": "1beb055f",
   "metadata": {},
   "outputs": [
    {
     "data": {
      "text/plain": [
       "['indices', 'magic', 'soap_v', 'E_form']"
      ]
     },
     "execution_count": 55,
     "metadata": {},
     "output_type": "execute_result"
    }
   ],
   "source": [
    "npzfile = np.load(\"../datasets/E_form_MP.npz\")\n",
    "npzfile.files"
   ]
  },
  {
   "cell_type": "code",
   "execution_count": 56,
   "id": "0aa3d1e0",
   "metadata": {},
   "outputs": [],
   "source": [
    "X_raw=npzfile['soap_v']\n",
    "y_raw=npzfile['E_form']\n",
    "y_atom=npzfile['magic']"
   ]
  },
  {
   "cell_type": "code",
   "execution_count": 57,
   "id": "5be055e9",
   "metadata": {},
   "outputs": [
    {
     "data": {
      "text/plain": [
       "(50000, 5000)"
      ]
     },
     "execution_count": 57,
     "metadata": {},
     "output_type": "execute_result"
    }
   ],
   "source": [
    "X_raw.shape"
   ]
  },
  {
   "cell_type": "code",
   "execution_count": 58,
   "id": "bd26ec06",
   "metadata": {},
   "outputs": [
    {
     "name": "stdout",
     "output_type": "stream",
     "text": [
      "(40000, 5000) (10000, 5000) (40000, 1) (10000, 1)\n"
     ]
    }
   ],
   "source": [
    "i_train, i_test, X_train, X_test, y_train, y_test = train_test_split(\n",
    "    np.arange(X_raw.shape[0]), X_raw, y_raw, train_size=0.8\n",
    ")\n",
    "x_scaler = StandardFlexibleScaler(column_wise=False).fit(X_raw)\n",
    "y_scaler = StandardFlexibleScaler(column_wise=True).fit(y_raw)\n",
    "\n",
    "# Center total dataset\n",
    "X = x_scaler.transform(X_raw)\n",
    "Y = y_scaler.transform(y_raw)\n",
    "\n",
    "# Center training data\n",
    "X_train = x_scaler.transform(X_train)\n",
    "y_train = y_scaler.transform(y_train)\n",
    "\n",
    "# Center training data\n",
    "X_test = x_scaler.transform(X_test)\n",
    "y_test = y_scaler.transform(y_test)\n",
    "\n",
    "print(X_train.shape, X_test.shape, y_train.shape, y_test.shape)\n"
   ]
  },
  {
   "cell_type": "code",
   "execution_count": 59,
   "id": "bc9802ee",
   "metadata": {},
   "outputs": [],
   "source": [
    "# ridgecv = RidgeCV(cv=4,fit_intercept=False, alphas=alphas)\n",
    "# ridgecv.fit(X_train, y_train)\n",
    "# yp_test=ridgecv.predict(X_test)\n",
    "# yp_train=ridgecv.predict(X_train)\n",
    "# print('R^2 of training is ', ridgecv.score(X_train,y_train))\n",
    "# print('R^2 of testing is ', ridgecv.score(X_test,y_test))\n",
    "# print('Best regularization is ', ridgecv.alpha_)\n",
    "# fig, (ax_train, ax_test)=plt.subplots(1,2,figsize=(8,4), sharex=True, sharey=True)\n",
    "# ax_train.scatter(y_train, yp_train, c=np.abs(y_train - yp_train), cmap=\"bone_r\", ec=\"k\")\n",
    "# ax_test.scatter(y_test, yp_test, c=np.abs(y_test - yp_test), cmap=\"bone_r\", ec=\"k\")\n",
    "\n",
    "# bounds=(np.min((Y.min(), yp_train.min(), yp_test.min())), \n",
    "#        np.max((Y.max(), yp_train.max(), yp_test.max()))\n",
    "#        )\n",
    "\n",
    "# ax_train.plot(bounds,bounds, 'r--')\n",
    "# ax_train.set_title('Training set')\n",
    "# ax_test.set_title('Testing set')\n",
    "# ax_test.plot(bounds,bounds, 'r--')\n",
    "# plt.title('Materials Project Energy Regression')\n"
   ]
  },
  {
   "cell_type": "code",
   "execution_count": 60,
   "id": "1a3be094",
   "metadata": {},
   "outputs": [
    {
     "name": "stdout",
     "output_type": "stream",
     "text": [
      "[1, 2, 3, 4, 5, 6, 7, 8, 9, 10, 11, 12, 13, 14, 15, 16, 17, 18, 19, 20, 21, 22, 23, 24, 25, 26, 27, 28, 29, 30, 31, 32, 33, 34, 35, 36, 37, 38, 39, 40, 41, 42, 43, 44, 45, 46, 47, 48, 49, 50, 51, 52, 53, 54, 55, 56, 57, 58, 59, 60, 61, 62, 63, 64, 65, 66, 67, 68, 69, 70, 71, 72, 73, 74, 75, 76, 77, 78, 79, 80, 81, 82, 83, 84, 86]\n"
     ]
    }
   ],
   "source": [
    "\"\"\"MAKING PREDICTION OF ENERGIES ON 3DCD DATASET\"\"\"\n",
    "\n",
    "#dataset load\n",
    "len_dataset=79855\n",
    "load_profile('egazzarr')\n",
    "qb = QueryBuilder()\n",
    "qb.append(orm.StructureData)\n",
    "select=n_frames\n",
    "qb_red=random.sample(qb.all(), select)\n",
    "\n",
    "frames_tot_exp=[]\n",
    "magic=[]\n",
    "for [structure_data] in qb_red:\n",
    "    frame=structure_data.get_ase()\n",
    "    frame.wrap(eps=1e-12)\n",
    "    frames_tot_exp.append(frame)\n",
    "    natom=len(frame)\n",
    "    if natom%4==0:\n",
    "        magic.append(int(1))\n",
    "    else:\n",
    "        magic.append(int(0))\n",
    "    \n",
    "species = list(set([int(n) for frame in frames_tot_exp for n in frame.numbers]))\n",
    "print(species)\n",
    "\n",
    "hypers = dict(\n",
    "    soap_type=\"PowerSpectrum\",\n",
    "    interaction_cutoff=3.5,\n",
    "    max_radial=4,\n",
    "    max_angular=4,\n",
    "    gaussian_sigma_type=\"Constant\",\n",
    "    gaussian_sigma_constant=0.5,\n",
    "    cutoff_smooth_width=0.5,\n",
    "    global_species=species,\n",
    "    expansion_by_species_method=\"user defined\",\n",
    "    normalize=False,\n",
    ")\n",
    "fps_soap = SOAP(\n",
    "    **hypers,\n",
    ")\n",
    "\n",
    "idx_for_fps = np.random.randint(0, len(frames_tot_exp), n_FPS) \n",
    "frames_for_fps = [frames_tot_exp[i] for i in idx_for_fps]\n",
    "\n",
    "X_temp = np.array(\n",
    "    [\n",
    "        np.mean(fps_soap.transform([frame]).get_features(fps_soap), axis=0)\n",
    "        for frame in frames_for_fps\n",
    "    ]\n",
    ")\n",
    "\n",
    "THRESH = 1e-12\n",
    "high_var_features = np.where(np.var(X_temp - X_temp.mean(axis=0), axis=0) > THRESH)[0]\n",
    "X_temp = X_temp[:, high_var_features]\n",
    "\n",
    "X_raw_exp = StandardFlexibleScaler(column_wise=False).fit_transform(X_temp)\n",
    "del X_temp # save on memory\n",
    "\n",
    "# fps = FPS(n_to_select=n_FPS, progress_bar=True).fit(X_raw)\n",
    "fps = FPS(n_FPS).fit(X_raw_exp)\n",
    "del X_raw_exp # save on memory\n",
    "\n",
    "u_species = np.unique(species)\n",
    "sp_pairs = fps_soap.get_keys(u_species)\n"
   ]
  },
  {
   "cell_type": "code",
   "execution_count": 61,
   "id": "e5ab31a9",
   "metadata": {},
   "outputs": [],
   "source": [
    "# high_var_features[fps.selected_idx_].shape\n",
    "coefficient_subselection = np.zeros((n_FPS, 5))\n",
    "index_mapping = get_power_spectrum_index_mapping(\n",
    "    sp_pairs, n_max=hypers[\"max_radial\"], l_max=hypers[\"max_angular\"] + 1\n",
    ")\n",
    "\n",
    "for fi, i in enumerate(high_var_features[fps.selected_idx_]):\n",
    "    coefficient_subselection[fi] = [\n",
    "        index_mapping[i][k] for k in [\"a\", \"b\", \"n1\", \"n2\", \"l\"]\n",
    "    ]"
   ]
  },
  {
   "cell_type": "code",
   "execution_count": 62,
   "id": "ebf6ad63",
   "metadata": {},
   "outputs": [
    {
     "name": "stdout",
     "output_type": "stream",
     "text": [
      "[[  1.   1.   0.   0.   0.]\n",
      " [  8.   8.   2.   2.   0.]\n",
      " [  6.   6.   2.   2.   0.]\n",
      " ..., \n",
      " [  5.  21.   2.   3.   4.]\n",
      " [ 29.  60.   0.   2.   0.]\n",
      " [ 15.  25.   3.   2.   0.]]\n"
     ]
    }
   ],
   "source": [
    "print(coefficient_subselection)\n",
    "\n",
    "coefficient_subselection_dict = {\n",
    "    \"a\": coefficient_subselection[:, 0].tolist(),\n",
    "    \"b\": coefficient_subselection[:, 1].tolist(),\n",
    "    \"n1\": coefficient_subselection[:, 2].tolist(),\n",
    "    \"n2\": coefficient_subselection[:, 3].tolist(),\n",
    "    \"l\": coefficient_subselection[:, 4].tolist(),\n",
    "}\n",
    "\n",
    "soap = SOAP(**hypers, coefficient_subselection=coefficient_subselection_dict)\n"
   ]
  },
  {
   "cell_type": "code",
   "execution_count": 63,
   "id": "6380afdd",
   "metadata": {},
   "outputs": [
    {
     "ename": "RuntimeError",
     "evalue": "Neighbourlist of structures failed because: Error: this atom does not fall in one of the linked cell bin. It might have not been wrapped properly. ccoord = (5, 3, 1), nboxes = (6, 7, 12)",
     "output_type": "error",
     "traceback": [
      "\u001b[0;31m---------------------------------------------------------------------------\u001b[0m",
      "\u001b[0;31mRuntimeError\u001b[0m                              Traceback (most recent call last)",
      "\u001b[0;32m~/miniconda3/envs/aiida/lib/python3.8/site-packages/rascal/neighbourlist/structure_manager.py\u001b[0m in \u001b[0;36m__init__\u001b[0;34m(self, frames, nl_options, start, length, managers)\u001b[0m\n\u001b[1;32m     78\u001b[0m             \u001b[0;32mtry\u001b[0m\u001b[0;34m:\u001b[0m\u001b[0;34m\u001b[0m\u001b[0;34m\u001b[0m\u001b[0m\n\u001b[0;32m---> 79\u001b[0;31m                 \u001b[0mmanagers\u001b[0m\u001b[0;34m.\u001b[0m\u001b[0madd_structures\u001b[0m\u001b[0;34m(\u001b[0m\u001b[0mstructures\u001b[0m\u001b[0;34m)\u001b[0m\u001b[0;34m\u001b[0m\u001b[0;34m\u001b[0m\u001b[0m\n\u001b[0m\u001b[1;32m     80\u001b[0m             \u001b[0;32mexcept\u001b[0m \u001b[0mException\u001b[0m \u001b[0;32mas\u001b[0m \u001b[0me\u001b[0m\u001b[0;34m:\u001b[0m\u001b[0;34m\u001b[0m\u001b[0;34m\u001b[0m\u001b[0m\n",
      "\u001b[0;31mRuntimeError\u001b[0m: Error: this atom does not fall in one of the linked cell bin. It might have not been wrapped properly. ccoord = (5, 3, 1), nboxes = (6, 7, 12)",
      "\nDuring handling of the above exception, another exception occurred:\n",
      "\u001b[0;31mRuntimeError\u001b[0m                              Traceback (most recent call last)",
      "\u001b[0;32m<ipython-input-63-06191553565d>\u001b[0m in \u001b[0;36m<module>\u001b[0;34m\u001b[0m\n\u001b[1;32m      4\u001b[0m \u001b[0mX_raw_exp\u001b[0m \u001b[0;34m=\u001b[0m \u001b[0mnp\u001b[0m\u001b[0;34m.\u001b[0m\u001b[0mzeros\u001b[0m\u001b[0;34m(\u001b[0m\u001b[0;34m(\u001b[0m\u001b[0mlen\u001b[0m\u001b[0;34m(\u001b[0m\u001b[0mmy_frames\u001b[0m\u001b[0;34m)\u001b[0m\u001b[0;34m,\u001b[0m \u001b[0mn_FPS\u001b[0m\u001b[0;34m)\u001b[0m\u001b[0;34m)\u001b[0m\u001b[0;34m\u001b[0m\u001b[0;34m\u001b[0m\u001b[0m\n\u001b[1;32m      5\u001b[0m \u001b[0;32mfor\u001b[0m \u001b[0mfi\u001b[0m\u001b[0;34m,\u001b[0m \u001b[0mframe\u001b[0m \u001b[0;32min\u001b[0m \u001b[0menumerate\u001b[0m\u001b[0;34m(\u001b[0m\u001b[0mmy_frames\u001b[0m\u001b[0;34m)\u001b[0m\u001b[0;34m:\u001b[0m\u001b[0;34m\u001b[0m\u001b[0;34m\u001b[0m\u001b[0m\n\u001b[0;32m----> 6\u001b[0;31m     \u001b[0mX_raw_exp\u001b[0m\u001b[0;34m[\u001b[0m\u001b[0mfi\u001b[0m\u001b[0;34m]\u001b[0m \u001b[0;34m=\u001b[0m \u001b[0mnp\u001b[0m\u001b[0;34m.\u001b[0m\u001b[0mmean\u001b[0m\u001b[0;34m(\u001b[0m\u001b[0msoap\u001b[0m\u001b[0;34m.\u001b[0m\u001b[0mtransform\u001b[0m\u001b[0;34m(\u001b[0m\u001b[0;34m[\u001b[0m\u001b[0mframe\u001b[0m\u001b[0;34m]\u001b[0m\u001b[0;34m)\u001b[0m\u001b[0;34m.\u001b[0m\u001b[0mget_features\u001b[0m\u001b[0;34m(\u001b[0m\u001b[0msoap\u001b[0m\u001b[0;34m)\u001b[0m\u001b[0;34m,\u001b[0m \u001b[0maxis\u001b[0m\u001b[0;34m=\u001b[0m\u001b[0;36m0\u001b[0m\u001b[0;34m)\u001b[0m\u001b[0;34m\u001b[0m\u001b[0;34m\u001b[0m\u001b[0m\n\u001b[0m",
      "\u001b[0;32m~/miniconda3/envs/aiida/lib/python3.8/site-packages/rascal/representations/spherical_invariants.py\u001b[0m in \u001b[0;36mtransform\u001b[0;34m(self, frames)\u001b[0m\n\u001b[1;32m    330\u001b[0m         \"\"\"\n\u001b[1;32m    331\u001b[0m         \u001b[0;32mif\u001b[0m \u001b[0;32mnot\u001b[0m \u001b[0misinstance\u001b[0m\u001b[0;34m(\u001b[0m\u001b[0mframes\u001b[0m\u001b[0;34m,\u001b[0m \u001b[0mAtomsList\u001b[0m\u001b[0;34m)\u001b[0m\u001b[0;34m:\u001b[0m\u001b[0;34m\u001b[0m\u001b[0;34m\u001b[0m\u001b[0m\n\u001b[0;32m--> 332\u001b[0;31m             \u001b[0mframes\u001b[0m \u001b[0;34m=\u001b[0m \u001b[0mAtomsList\u001b[0m\u001b[0;34m(\u001b[0m\u001b[0mframes\u001b[0m\u001b[0;34m,\u001b[0m \u001b[0mself\u001b[0m\u001b[0;34m.\u001b[0m\u001b[0mnl_options\u001b[0m\u001b[0;34m)\u001b[0m\u001b[0;34m\u001b[0m\u001b[0;34m\u001b[0m\u001b[0m\n\u001b[0m\u001b[1;32m    333\u001b[0m \u001b[0;34m\u001b[0m\u001b[0m\n\u001b[1;32m    334\u001b[0m         \u001b[0mself\u001b[0m\u001b[0;34m.\u001b[0m\u001b[0m_representation\u001b[0m\u001b[0;34m.\u001b[0m\u001b[0mcompute\u001b[0m\u001b[0;34m(\u001b[0m\u001b[0mframes\u001b[0m\u001b[0;34m.\u001b[0m\u001b[0mmanagers\u001b[0m\u001b[0;34m)\u001b[0m\u001b[0;34m\u001b[0m\u001b[0;34m\u001b[0m\u001b[0m\n",
      "\u001b[0;32m~/miniconda3/envs/aiida/lib/python3.8/site-packages/rascal/neighbourlist/structure_manager.py\u001b[0m in \u001b[0;36m__init__\u001b[0;34m(self, frames, nl_options, start, length, managers)\u001b[0m\n\u001b[1;32m     79\u001b[0m                 \u001b[0mmanagers\u001b[0m\u001b[0;34m.\u001b[0m\u001b[0madd_structures\u001b[0m\u001b[0;34m(\u001b[0m\u001b[0mstructures\u001b[0m\u001b[0;34m)\u001b[0m\u001b[0;34m\u001b[0m\u001b[0;34m\u001b[0m\u001b[0m\n\u001b[1;32m     80\u001b[0m             \u001b[0;32mexcept\u001b[0m \u001b[0mException\u001b[0m \u001b[0;32mas\u001b[0m \u001b[0me\u001b[0m\u001b[0;34m:\u001b[0m\u001b[0;34m\u001b[0m\u001b[0;34m\u001b[0m\u001b[0m\n\u001b[0;32m---> 81\u001b[0;31m                 raise RuntimeError(\n\u001b[0m\u001b[1;32m     82\u001b[0m                     \u001b[0;34m\"Neighbourlist of structures failed \"\u001b[0m \u001b[0;34m+\u001b[0m \u001b[0;34m\"because: \"\u001b[0m \u001b[0;34m+\u001b[0m \u001b[0mstr\u001b[0m\u001b[0;34m(\u001b[0m\u001b[0me\u001b[0m\u001b[0;34m)\u001b[0m\u001b[0;34m\u001b[0m\u001b[0;34m\u001b[0m\u001b[0m\n\u001b[1;32m     83\u001b[0m                 )\n",
      "\u001b[0;31mRuntimeError\u001b[0m: Neighbourlist of structures failed because: Error: this atom does not fall in one of the linked cell bin. It might have not been wrapped properly. ccoord = (5, 3, 1), nboxes = (6, 7, 12)"
     ]
    }
   ],
   "source": [
    "frame_idx = np.random.randint(0, len(frames_tot_exp), n_frames)\n",
    "my_frames = [frames_tot_exp[i] for i in frame_idx]\n",
    "\n",
    "X_raw_exp = np.zeros((len(my_frames), n_FPS))\n",
    "for fi, frame in enumerate(my_frames):\n",
    "    X_raw_exp[fi] = np.mean(soap.transform([frame]).get_features(soap), axis=0)\n"
   ]
  },
  {
   "cell_type": "code",
   "execution_count": null,
   "id": "eb55a4dd",
   "metadata": {},
   "outputs": [],
   "source": [
    "x_scaler_exp = StandardFlexibleScaler(column_wise=False).fit(X_raw_exp)\n",
    "\n",
    "X_raw_exp = x_scaler_exp.transform(X_raw_exp)"
   ]
  },
  {
   "cell_type": "code",
   "execution_count": null,
   "id": "f4335c97",
   "metadata": {},
   "outputs": [],
   "source": [
    "y_atom_exp = np.array(magic).reshape(-1, 1)[frame_idx]"
   ]
  },
  {
   "cell_type": "code",
   "execution_count": null,
   "id": "3da4e30b",
   "metadata": {},
   "outputs": [],
   "source": [
    "X_train.shape,y_train.shape, X_test.shape,y_exp.shape"
   ]
  },
  {
   "cell_type": "code",
   "execution_count": null,
   "id": "dbdc1dc2",
   "metadata": {},
   "outputs": [],
   "source": [
    "ridgecv = RidgeCV(cv=4,fit_intercept=False, alphas=alphas)\n",
    "ridgecv.fit(X_train, y_train)\n",
    "\n",
    "y_exp=ridgecv.predict(X_raw_exp)\n",
    "y_scaler_exp = StandardFlexibleScaler(column_wise=True).fit(y_exp)\n",
    "y_exp = y_scaler_exp.transform(y_exp)\n",
    "\n",
    "yp_train=ridgecv.predict(X_train)\n",
    "print(y_exp)\n"
   ]
  },
  {
   "cell_type": "code",
   "execution_count": null,
   "id": "22ab89fc",
   "metadata": {},
   "outputs": [],
   "source": [
    "print('R^2 of training is ', ridgecv.score(X_train,y_train))\n",
    "print('R^2 of testing is ', ridgecv.score(X_raw_exp,y_exp))\n",
    "print('Best regularization is ', ridgecv.alpha_)"
   ]
  },
  {
   "cell_type": "code",
   "execution_count": null,
   "id": "4021aee9",
   "metadata": {},
   "outputs": [],
   "source": [
    "mixing = 0.5\n",
    "pcovr = PCovR(mixing=mixing,\n",
    "              n_components=2)\n",
    "pcovr.fit(X_raw_exp,y_exp)\n",
    "T = pcovr.transform(X_raw_exp)\n",
    "yp = pcovr.predict(X_raw_exp)\n"
   ]
  },
  {
   "cell_type": "code",
   "execution_count": null,
   "id": "d6843ce0",
   "metadata": {},
   "outputs": [],
   "source": [
    "fig, ((axT, axM), (caxT, caxM,)) = plt.subplots(\n",
    "    2, 2, figsize=(13, 6), gridspec_kw=dict(height_ratios=(1, 0.07))\n",
    ")\n",
    "\n",
    "scatT = axT.scatter(T[:, 0], T[:, 1], s=50, alpha=0.7, c=y_exp, cmap='plasma', edgecolor=\"k\")\n",
    "axT.set_xlabel(r\"$PCov_1$\")\n",
    "axT.set_ylabel(r\"$PCov_2$\")\n",
    "\n",
    "fig.colorbar(scatT, cax=caxT, label=\"Formation Energy per atoms (eV)\", orientation=\"horizontal\")\n",
    "\n",
    "scatM = axM.scatter(T[:, 0], T[:, 1], s=50, alpha=0.7, c=y_atom_exp, cmap = colors.ListedColormap(['cornflowerblue', 'darkorange']), edgecolor=\"k\")\n",
    "axM.set_xlabel(r\"$PCov_1$\")\n",
    "\n",
    "fig.colorbar(scatM, cax=caxM, label=\"magic=1\", orientation=\"horizontal\")\n",
    "\n",
    "# scaty = axy.scatter(Y, yp, s=50, alpha=0.7, c=np.abs(Y - yp), cmap='bone_r', edgecolor=\"k\")\n",
    "# axy.plot(axy.get_xlim(), axy.get_xlim(), 'r--')\n",
    "# axy.set_xlabel(r\"True Y\")\n",
    "# axy.set_ylabel(r\"Predicted Y\")\n",
    "# axy.set_title(\"Regression\")\n",
    "# fig.colorbar(scaty, cax=caxy, label='Error in Y, R^2 = {0:1.2f}'.format(pcovr.score(X,Y)), orientation=\"horizontal\")\n",
    "\n",
    "fig.suptitle(r\"$\\alpha=$\" + str(mixing))\n",
    "fig.tight_layout()\n",
    "print('R^2 = ', pcovr.score(X,Y))"
   ]
  },
  {
   "cell_type": "code",
   "execution_count": null,
   "id": "47ffd005",
   "metadata": {},
   "outputs": [],
   "source": []
  },
  {
   "cell_type": "code",
   "execution_count": null,
   "id": "d04a87ef",
   "metadata": {},
   "outputs": [],
   "source": []
  },
  {
   "cell_type": "code",
   "execution_count": null,
   "id": "446ea3bf",
   "metadata": {},
   "outputs": [],
   "source": []
  }
 ],
 "metadata": {
  "kernelspec": {
   "display_name": "aiida",
   "language": "python",
   "name": "aiida"
  },
  "language_info": {
   "codemirror_mode": {
    "name": "ipython",
    "version": 3
   },
   "file_extension": ".py",
   "mimetype": "text/x-python",
   "name": "python",
   "nbconvert_exporter": "python",
   "pygments_lexer": "ipython3",
   "version": "3.8.8"
  }
 },
 "nbformat": 4,
 "nbformat_minor": 5
}
