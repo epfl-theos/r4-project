{
 "cells": [
  {
   "cell_type": "code",
   "execution_count": 2,
   "id": "b69e9bb0",
   "metadata": {},
   "outputs": [],
   "source": [
    "%run ../src/modules.ipynb\n",
    "\n",
    "df1 = load_dataset(\"mp_all_20181018\")\n",
    "\n",
    "\"\"\"importing reduced dataset without nan, 7676 entries\"\"\"\n",
    "\n",
    "df1.dropna(inplace=True)\n",
    "df1.reset_index(drop=True, inplace=True)\n",
    "\n",
    "# compression_opts = dict(method='zip',\n",
    "#                         archive_name='MP_red.csv')  \n",
    "\n",
    "# df1.to_csv('MP_red.zip', index=False,\n",
    "#           compression=compression_opts)  \n",
    "\n",
    "# ase_frames=[]\n",
    "# for i in df1['initial structure']:\n",
    "#     frame=get_atoms(i)\n",
    "# #     frame.wrap(eps=1e-12)\n",
    "#     ase_frames.append(frame)\n",
    "    \n",
    "# xyz=ase.io.write('MP_red.xyz', ase_frames)\n",
    "\n",
    "# zf = zipfile.ZipFile('./MP_red.zip') \n",
    "# df_csv_red = pd.read_csv(zf.open('MP_red.csv'), usecols=['e_hull','gap pbe', 'mu_b',\n",
    "#                                                          'structure', 'elastic anisotropy','bulk modulus', 'shear modulus', 'e_form'])\n",
    "# frames_init_red=ase.io.read('MP_red.xyz', index=':')\n",
    "# for frame in frames_init_red:\n",
    "#     frame.wrap(eps=1e-10)\n"
   ]
  },
  {
   "cell_type": "code",
   "execution_count": null,
   "id": "4c1b3357",
   "metadata": {},
   "outputs": [],
   "source": []
  }
 ],
 "metadata": {
  "kernelspec": {
   "display_name": "aiida",
   "language": "python",
   "name": "aiida"
  },
  "language_info": {
   "codemirror_mode": {
    "name": "ipython",
    "version": 3
   },
   "file_extension": ".py",
   "mimetype": "text/x-python",
   "name": "python",
   "nbconvert_exporter": "python",
   "pygments_lexer": "ipython3",
   "version": "3.8.8"
  }
 },
 "nbformat": 4,
 "nbformat_minor": 5
}
