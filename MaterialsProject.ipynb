{
 "cells": [
  {
   "cell_type": "code",
   "execution_count": 50,
   "id": "assigned-wichita",
   "metadata": {},
   "outputs": [],
   "source": [
    "import matminer.datasets as md\n",
    "from matminer.datasets import load_dataset\n",
    "import seaborn as sns\n",
    "import numpy as np\n",
    "import matplotlib.pyplot as plt\n",
    "import pandas as pd"
   ]
  },
  {
   "cell_type": "code",
   "execution_count": 9,
   "id": "mineral-wealth",
   "metadata": {},
   "outputs": [
    {
     "name": "stderr",
     "output_type": "stream",
     "text": [
      "/home/egazzarrini/anaconda3/envs/aiida/lib/python3.8/site-packages/pymatgen/core/periodic_table.py:203: UserWarning: No electronegativity for Ar. Setting to NaN. This has no physical meaning, and is mainly done to avoid errors caused by the code expecting a float.\n",
      "  warnings.warn(\n",
      "/home/egazzarrini/anaconda3/envs/aiida/lib/python3.8/site-packages/pymatgen/core/periodic_table.py:203: UserWarning: No electronegativity for He. Setting to NaN. This has no physical meaning, and is mainly done to avoid errors caused by the code expecting a float.\n",
      "  warnings.warn(\n",
      "/home/egazzarrini/anaconda3/envs/aiida/lib/python3.8/site-packages/pymatgen/core/periodic_table.py:203: UserWarning: No electronegativity for Ne. Setting to NaN. This has no physical meaning, and is mainly done to avoid errors caused by the code expecting a float.\n",
      "  warnings.warn(\n"
     ]
    }
   ],
   "source": [
    "\"\"\"TO FILE MP_dataset.zip for any necessity\"\"\"\n",
    "# df = load_dataset(\"mp_all_20181018\")\n",
    "# compression_opts = dict(method='zip',\n",
    "\n",
    "#                         archive_name='MP_dataset.csv')  \n",
    "\n",
    "# df.to_csv('MP_dataset.zip', index=False,\n",
    "\n",
    "#           compression=compression_opts)  \n"
   ]
  },
  {
   "cell_type": "code",
   "execution_count": 67,
   "id": "weird-pantyhose",
   "metadata": {},
   "outputs": [
    {
     "name": "stdout",
     "output_type": "stream",
     "text": [
      "Full Formula (Nb1 In1 Co2)\n",
      "Reduced Formula: NbInCo2\n",
      "abc   :   9.139045  10.524436  10.524437\n",
      "angles:  63.848000  64.266732  64.266734\n",
      "Sites (4)\n",
      "  #  SP            a    b    c    magmom\n",
      "---  ----  ---------  ---  ---  --------\n",
      "  0  Nb    -0           0    0     0.193\n",
      "  1  In     0.5         0    0     0.001\n",
      "  2  Co     0.778721    1    0    -0.12\n",
      "  3  Co     0.221279    0    1    -0.12\n"
     ]
    },
    {
     "ename": "IndexError",
     "evalue": "tuple index out of range",
     "output_type": "error",
     "traceback": [
      "\u001b[0;31m---------------------------------------------------------------\u001b[0m",
      "\u001b[0;31mIndexError\u001b[0m                    Traceback (most recent call last)",
      "\u001b[0;32m<ipython-input-67-d098dcdc8fc5>\u001b[0m in \u001b[0;36m<module>\u001b[0;34m\u001b[0m\n\u001b[1;32m      3\u001b[0m \u001b[0mstruc\u001b[0m\u001b[0;34m=\u001b[0m\u001b[0mdf\u001b[0m\u001b[0;34m[\u001b[0m\u001b[0;34m'structure'\u001b[0m\u001b[0;34m]\u001b[0m\u001b[0;34m\u001b[0m\u001b[0;34m\u001b[0m\u001b[0m\n\u001b[1;32m      4\u001b[0m \u001b[0mprint\u001b[0m\u001b[0;34m(\u001b[0m\u001b[0mstruc\u001b[0m\u001b[0;34m[\u001b[0m\u001b[0;36m10567\u001b[0m\u001b[0;34m]\u001b[0m\u001b[0;34m)\u001b[0m\u001b[0;34m\u001b[0m\u001b[0;34m\u001b[0m\u001b[0m\n\u001b[0;32m----> 5\u001b[0;31m \u001b[0mprint\u001b[0m\u001b[0;34m(\u001b[0m\u001b[0;34m(\u001b[0m\u001b[0mstruc\u001b[0m\u001b[0;34m[\u001b[0m\u001b[0;36m10567\u001b[0m\u001b[0;34m]\u001b[0m\u001b[0;34m.\u001b[0m\u001b[0mpartition\u001b[0m\u001b[0;34m(\u001b[0m\u001b[0;34m\"Sites\"\u001b[0m\u001b[0;34m)\u001b[0m\u001b[0;34m[\u001b[0m\u001b[0;36m20\u001b[0m\u001b[0;34m]\u001b[0m\u001b[0;34m)\u001b[0m\u001b[0;34m)\u001b[0m\u001b[0;34m\u001b[0m\u001b[0;34m\u001b[0m\u001b[0m\n\u001b[0m\u001b[1;32m      6\u001b[0m \u001b[0;31m# natoms=[]\u001b[0m\u001b[0;34m\u001b[0m\u001b[0;34m\u001b[0m\u001b[0;34m\u001b[0m\u001b[0m\n\u001b[1;32m      7\u001b[0m \u001b[0;31m# for i in range(len(struc)):\u001b[0m\u001b[0;34m\u001b[0m\u001b[0;34m\u001b[0m\u001b[0;34m\u001b[0m\u001b[0m\n",
      "\u001b[0;31mIndexError\u001b[0m: tuple index out of range"
     ]
    }
   ],
   "source": [
    "df=pd.read_csv('MP_dataset.zip')\n",
    "formE=df['e_form']\n",
    "struc=df['structure']\n",
    "print(struc[10567])\n",
    "print((struc[10567].partition(\"Sites\")[20]))\n",
    "# natoms=[]\n",
    "# for i in range(len(struc)):\n",
    "#     natom=struc[i].num_sites\n",
    "#     natoms.append(natom)"
   ]
  },
  {
   "cell_type": "code",
   "execution_count": 49,
   "id": "round-peter",
   "metadata": {},
   "outputs": [
    {
     "data": {
      "image/png": "[encoded data removed]",
      "text/plain": [
       "<Figure size 648x576 with 1 Axes>"
      ]
     },
     "metadata": {},
     "output_type": "display_data"
    }
   ],
   "source": [
    "sns.set(style=\"white\", palette=\"muted\", color_codes=True)\n",
    "f, ax = plt.subplots(figsize=(9, 8))\n",
    "sns.despine(left=True)\n",
    "sns.histplot(data=natoms, stat=\"probability\", color='b', discrete=True, label='number of atoms')\n",
    "ax.set_xlabel('Atom count')\n",
    "plt.legend()\n",
    "plt.xlim(0,100)\n",
    "plt.savefig('MP_natom_occ.png', bbox_inches='tight', dpi=400)\n",
    "plt.show()\n",
    "plt.close()\n"
   ]
  },
  {
   "cell_type": "code",
   "execution_count": 43,
   "id": "basic-furniture",
   "metadata": {},
   "outputs": [
    {
     "name": "stdout",
     "output_type": "stream",
     "text": [
      "83989 83989\n"
     ]
    }
   ],
   "source": []
  },
  {
   "cell_type": "code",
   "execution_count": null,
   "id": "prostate-andrews",
   "metadata": {},
   "outputs": [],
   "source": []
  }
 ],
 "metadata": {
  "kernelspec": {
   "display_name": "aiida",
   "language": "python",
   "name": "aiida"
  },
  "language_info": {
   "codemirror_mode": {
    "name": "ipython",
    "version": 3
   },
   "file_extension": ".py",
   "mimetype": "text/x-python",
   "name": "python",
   "nbconvert_exporter": "python",
   "pygments_lexer": "ipython3",
   "version": "3.8.8"
  }
 },
 "nbformat": 4,
 "nbformat_minor": 5
}
