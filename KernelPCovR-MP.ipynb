{
 "cells": [
  {
   "cell_type": "code",
   "execution_count": 1,
   "id": "98035a5b",
   "metadata": {},
   "outputs": [],
   "source": [
    "%run modules.ipynb\n",
    "# Change this cell to change the kernel function throughout\n",
    "kernel_params = {\"kernel\": \"rbf\", \"gamma\": 1}\n",
    "kernel_func = partial(rbf_kernel, gamma=1)\n",
    "kernel_type = \"gaussian\"\n",
    "import multiprocessing\n",
    "from multiprocessing import Pool\n",
    "from time import sleep"
   ]
  },
  {
   "cell_type": "code",
   "execution_count": 2,
   "id": "8c4855c9",
   "metadata": {},
   "outputs": [
    {
     "name": "stdout",
     "output_type": "stream",
     "text": [
      "83989 83989\n"
     ]
    }
   ],
   "source": [
    "\"\"\"The file has been created in zip format, reading it\"\"\"\n",
    "zf = zipfile.ZipFile('./MP_dataset.zip') \n",
    "df_csv = pd.read_csv(zf.open('MP_dataset.csv'), usecols=['e_hull','gap pbe', 'mu_b','structure', 'elastic anisotropy','bulk modulus', 'shear modulus', 'e_form'])\n",
    "\n",
    "formE=df_csv['e_form']\n",
    "\n",
    "\"\"\"Counting number of atoms from string\"\"\"   \n",
    "\n",
    "def natoms(string):\n",
    "    for item in string:\n",
    "        if string[(string.find('Sites'))+8] == ')':\n",
    "            n=(string.find('Sites'))+7\n",
    "            return int(string[n])\n",
    "        else:\n",
    "            n1=(string.find('Sites'))+7\n",
    "            n2=(string.find('Sites'))+8\n",
    "            return int(string[n1]+string[n2])\n",
    "        \n",
    "natoms_list=[]\n",
    "for i in range(len(df_csv)):\n",
    "    natoms_list.append(natoms(df_csv['structure'][i]))\n",
    "    \n",
    "print(len(formE), len(natoms_list))"
   ]
  },
  {
   "cell_type": "code",
   "execution_count": 3,
   "id": "fef14e06",
   "metadata": {},
   "outputs": [
    {
     "data": {
      "text/plain": [
       "1000"
      ]
     },
     "execution_count": 3,
     "metadata": {},
     "output_type": "execute_result"
    }
   ],
   "source": [
    "select=1000\n",
    "ase_fra=random.sample(ase.io.read('MP.xyz', index=':'), select)\n",
    "len(ase_fra)"
   ]
  },
  {
   "cell_type": "code",
   "execution_count": 4,
   "id": "6936b519",
   "metadata": {},
   "outputs": [
    {
     "data": {
      "text/plain": [
       "<rascal.neighbourlist.structure_manager.AtomsList at 0x7fddf6fd4040>"
      ]
     },
     "execution_count": 4,
     "metadata": {},
     "output_type": "execute_result"
    }
   ],
   "source": [
    "frames_ase=[]\n",
    "\n",
    "select1=100\n",
    "for frame in ase_fra:\n",
    "    frame.wrap(eps=1e-12)\n",
    "    frames_ase.append(frame)\n",
    "\n",
    "frames_ase_random=random.sample(ase_fra, select1)\n",
    "n_FPS=50\n",
    "soap = SOAP(soap_type='PowerSpectrum',\n",
    "           interaction_cutoff=3.5,\n",
    "           max_radial=5,\n",
    "           max_angular=5,\n",
    "           gaussian_sigma_type='Constant',\n",
    "           gaussian_sigma_constant=0.4,\n",
    "           cutoff_smooth_width=0.5, \n",
    "           normalize=False)\n",
    "soap_rep= soap.transform(frames_ase_random)\n",
    "soap_rep"
   ]
  },
  {
   "cell_type": "code",
   "execution_count": 5,
   "id": "dbd77762",
   "metadata": {},
   "outputs": [
    {
     "name": "stdout",
     "output_type": "stream",
     "text": [
      "Variable                 Type                          Data/Info\n",
      "----------------------------------------------------------------\n",
      "Abinit                   ABCMeta                       <class 'ase.calculators.abinit.Abinit'>\n",
      "ArrayData                AbstractNodeMeta              <class 'aiida.orm.nodes.d<...>a.array.array.ArrayData'>\n",
      "Atoms                    type                          <class 'ase.atoms.Atoms'>\n",
      "Axes3D                   type                          <class 'mpl_toolkits.mplot3d.axes3d.Axes3D'>\n",
      "Calculator               ABCMeta                       <class 'ase.calculators.calculator.Calculator'>\n",
      "Counter                  type                          <class 'collections.Counter'>\n",
      "FPS                      ABCMeta                       <class 'skcosmo.feature_s<...>election.simple_fps.FPS'>\n",
      "IncrementalPCA           ABCMeta                       <class 'sklearn.decomposi<...>ntal_pca.IncrementalPCA'>\n",
      "KPCovR                   ABCMeta                       <class 'skcosmo.decomposition.kpcovr.KPCovR'>\n",
      "KernelNormalizer         type                          <class 'skcosmo.preproces<...>scaler.KernelNormalizer'>\n",
      "KernelPCA                type                          <class 'sklearn.decomposi<...>n._kernel_pca.KernelPCA'>\n",
      "KernelRidge              type                          <class 'sklearn.kernel_ridge.KernelRidge'>\n",
      "LR                       ABCMeta                       <class 'sklearn.linear_mo<...>._base.LinearRegression'>\n",
      "LabelEncoder             type                          <class 'sklearn.preproces<...>ing._label.LabelEncoder'>\n",
      "LocallyLinearEmbedding   type                          <class 'sklearn.manifold.<...>.LocallyLinearEmbedding'>\n",
      "Nystroem                 type                          <class 'sklearn.kernel_approximation.Nystroem'>\n",
      "PCA                      ABCMeta                       <class 'sklearn.decomposition._pca.PCA'>\n",
      "Pipeline                 ABCMeta                       <class 'sklearn.pipeline.Pipeline'>\n",
      "Pool                     method                        <bound method BaseContext<...>bject at 0x7fddfd5d04f0>>\n",
      "QueryBuilder             type                          <class 'aiida.orm.querybuilder.QueryBuilder'>\n",
      "RandomForestClassifier   ABCMeta                       <class 'sklearn.ensemble.<...>.RandomForestClassifier'>\n",
      "RandomForestRegressor    ABCMeta                       <class 'sklearn.ensemble.<...>t.RandomForestRegressor'>\n",
      "Ridge                    ABCMeta                       <class 'sklearn.linear_model._ridge.Ridge'>\n",
      "SKC                      type                          <class 'skcosmo.preproces<...>er.SparseKernelCenterer'>\n",
      "SOAP                     ABCMeta                       <class 'rascal.representa<...>nts.SphericalInvariants'>\n",
      "SVC                      ABCMeta                       <class 'sklearn.svm._classes.SVC'>\n",
      "SVR                      ABCMeta                       <class 'sklearn.svm._classes.SVR'>\n",
      "SimpleImputer            type                          <class 'sklearn.impute._base.SimpleImputer'>\n",
      "StandardFlexibleScaler   type                          <class 'skcosmo.preproces<...>.StandardFlexibleScaler'>\n",
      "StandardScaler           type                          <class 'sklearn.preproces<...>ng._data.StandardScaler'>\n",
      "StructureData            AbstractNodeMeta              <class 'aiida.orm.nodes.d<...>structure.StructureData'>\n",
      "TrajectoryData           AbstractNodeMeta              <class 'aiida.orm.nodes.d<...>ajectory.TrajectoryData'>\n",
      "accuracy_score           function                      <function accuracy_score at 0x7fddfcad4dc0>\n",
      "aiida                    module                        <module 'aiida' from '/ho<...>kages/aiida/__init__.py'>\n",
      "ase                      module                        <module 'ase' from '/home<...>ackages/ase/__init__.py'>\n",
      "ase_fra                  list                          n=1000\n",
      "calculator               module                        <module 'ase.calculators.<...>lculators/calculator.py'>\n",
      "check_mirrors            function                      <function check_mirrors at 0x7fddf8304160>\n",
      "cmap                     type                          <class 'matplotlib.colors.Colormap'>\n",
      "cmaps                    dict                          n=3\n",
      "dbl_fig                  tuple                         n=2\n",
      "df_csv                   DataFrame                              e_hull  gap pbe <...>n[83989 rows x 8 columns]\n",
      "formE                    Series                        0        0.003319\\n1     <...>th: 83989, dtype: float64\n",
      "frame                    Atoms                         Atoms(symbols='Na4Nb8P4O3<...>15], [0.0, 0.0, 17.967]])\n",
      "frames_ase               list                          n=1000\n",
      "frames_ase_random        list                          n=100\n",
      "gaussian_kernel          function                      <function gaussian_kernel at 0x7fddf835ac10>\n",
      "get_cmaps                function                      <function get_cmaps at 0x7fddf8368f70>\n",
      "get_stats                function                      <function get_stats at 0x7fddf8368550>\n",
      "i                        int                           83988\n",
      "inv                      function                      <function pinv at 0x7fe030304700>\n",
      "itemgetter               type                          <class 'operator.itemgetter'>\n",
      "json                     module                        <module 'json' from '/hom<...>hon3.8/json/__init__.py'>\n",
      "kernel_func              partial                       functools.partial(<functi<...>0x7fddfca8ba60>, gamma=1)\n",
      "kernel_params            dict                          n=2\n",
      "kernel_type              str                           gaussian\n",
      "kpts2ndarray             function                      <function kpts2ndarray at 0x7fde0a481a60>\n",
      "learning_curve           function                      <function learning_curve at 0x7fddfa9bb820>\n",
      "linear_kernel            function                      <function linear_kernel at 0x7fddf83a21f0>\n",
      "load_code                function                      <function load_code at 0x7fe0309e0ca0>\n",
      "load_computer            function                      <function load_computer at 0x7fe0309e0d30>\n",
      "load_dataset             function                      <function load_dataset at 0x7fddfeabfca0>\n",
      "load_entity              function                      <function load_entity at 0x7fe0309e0b80>\n",
      "load_group               function                      <function load_group at 0x7fe0309e0dc0>\n",
      "load_node                function                      <function load_node at 0x7fe0309e0e50>\n",
      "load_profile             function                      <function load_profile at 0x7fe04008c5e0>\n",
      "load_variables           function                      <function load_variables at 0x7fddf83685e0>\n",
      "matplotlib               module                        <module 'matplotlib' from<...>/matplotlib/__init__.py'>\n",
      "multiprocessing          module                        <module 'multiprocessing'<...>iprocessing/__init__.py'>\n",
      "n_FPS                    int                           50\n",
      "natoms                   function                      <function natoms at 0x7fe0402ad550>\n",
      "natoms_list              list                          n=83989\n",
      "np                       module                        <module 'numpy' from '/ho<...>kages/numpy/__init__.py'>\n",
      "orm                      module                        <module 'aiida.orm' from <...>s/aiida/orm/__init__.py'>\n",
      "os                       module                        <module 'os' from '/home/<...>ida/lib/python3.8/os.py'>\n",
      "partial                  type                          <class 'functools.partial'>\n",
      "pd                       module                        <module 'pandas' from '/h<...>ages/pandas/__init__.py'>\n",
      "pi                       float                         3.141592653589793\n",
      "plot_base                function                      <function plot_base at 0x7fddf83688b0>\n",
      "plot_projection          function                      <function plot_projection at 0x7fddf8368e50>\n",
      "plot_regression          function                      <function plot_regression at 0x7fddf8368ee0>\n",
      "plot_simple              function                      <function plot_simple at 0x7fddf8368940>\n",
      "plt                      module                        <module 'matplotlib.pyplo<...>es/matplotlib/pyplot.py'>\n",
      "poly_area                function                      <function poly_area at 0x7fddf8368b80>\n",
      "preprocessing            module                        <module 'sklearn.preproce<...>eprocessing/__init__.py'>\n",
      "random                   module                        <module 'random' from '/h<...>lib/python3.8/random.py'>\n",
      "rbf_kernel               function                      <function rbf_kernel at 0x7fddfca8ba60>\n",
      "read                     function                      <function read at 0x7fde09913280>\n",
      "scatter_matrix           function                      <function scatter_matrix at 0x7fde03e8a3a0>\n",
      "select                   int                           1000\n",
      "select1                  int                           100\n",
      "sleep                    builtin_function_or_method    <built-in function sleep>\n",
      "sns                      module                        <module 'seaborn' from '/<...>ges/seaborn/__init__.py'>\n",
      "soap                     SphericalInvariants           <rascal.representations.s<...>object at 0x7fddf6fd4160>\n",
      "soap_rep                 AtomsList                     <rascal.neighbourlist.str<...>object at 0x7fddf6fd4040>\n",
      "sys                      module                        <module 'sys' (built-in)>\n",
      "table_from_dict          function                      <function table_from_dict at 0x7fddf83040d0>\n",
      "train_test_split         function                      <function train_test_split at 0x7fddfaec6790>\n",
      "unit_normal              function                      <function unit_normal at 0x7fddf83689d0>\n",
      "validation_curve         function                      <function validation_curve at 0x7fddfa9bba60>\n",
      "write                    function                      <function write at 0x7fde099130d0>\n",
      "write_input              function                      <function write_input at 0x7fddfeabf940>\n",
      "zf                       ZipFile                       <zipfile.ZipFile filename<...>MP_dataset.zip' mode='r'>\n",
      "zipfile                  module                        <module 'zipfile' from '/<...>ib/python3.8/zipfile.py'>\n"
     ]
    },
    {
     "data": {
      "text/plain": [
       "((3260, 50), 46608)"
      ]
     },
     "execution_count": 5,
     "metadata": {},
     "output_type": "execute_result"
    }
   ],
   "source": [
    "%whos \n",
    "\n",
    "Xsparse = soap_rep.get_features(soap)\n",
    "col_idxs = FPS(n_features_to_select=n_FPS).fit(Xsparse).selected_idx_\n",
    "Xsparse = Xsparse[:, col_idxs]\n",
    "Xsparse.shape, max(col_idxs)"
   ]
  },
  {
   "cell_type": "code",
   "execution_count": 6,
   "id": "642b2f28",
   "metadata": {},
   "outputs": [
    {
     "name": "stdout",
     "output_type": "stream",
     "text": [
      "(2630, 50)\n",
      "(2768, 50)\n",
      "(2927, 50)\n",
      "(2716, 50)\n",
      "(2795, 50)\n",
      "(2936, 50)\n",
      "(3100, 50)\n",
      "(2681, 50)\n",
      "(3147, 50)\n",
      "(3074, 50)\n"
     ]
    },
    {
     "data": {
      "text/plain": [
       "(28774, 50)"
      ]
     },
     "execution_count": 6,
     "metadata": {},
     "output_type": "execute_result"
    }
   ],
   "source": [
    "Xsparse_tot=[]\n",
    "\n",
    "step=100\n",
    "for i in range(0, len(frames_ase), step):\n",
    "    soap_rep= soap.transform(frames_ase[i:i+step])\n",
    "    Xsp = soap_rep.get_features(soap)\n",
    "#     print(Xsp.shape)\n",
    "    z=[ [0] * (max(col_idxs)-len(Xsp[0])+1) for _ in range(len(Xsp))]\n",
    "    z=np.asarray(z)\n",
    "    Xsp=np.append(Xsp, z, axis=1)\n",
    "#     print(Xsp.shape)\n",
    "    Xsp = Xsp[:, col_idxs]\n",
    "    print(Xsp.shape)\n",
    "    Xsparse_tot.append(Xsp)\n",
    "    \n",
    "Xrest=np.concatenate(Xsparse_tot)\n",
    "Xrest.shape"
   ]
  },
  {
   "cell_type": "code",
   "execution_count": 7,
   "id": "1b7c83d2",
   "metadata": {},
   "outputs": [
    {
     "name": "stdout",
     "output_type": "stream",
     "text": [
      "Y shape is:(28774, 1)\n"
     ]
    },
    {
     "data": {
      "text/plain": [
       "(None, 1000)"
      ]
     },
     "execution_count": 7,
     "metadata": {},
     "output_type": "execute_result"
    }
   ],
   "source": [
    "l=np.concatenate(ase_fra)\n",
    "\n",
    "Y=np.zeros((len(l), 1))\n",
    "\n",
    "natoms_list_magic=[]\n",
    "start=0\n",
    "for frame in ase_fra:\n",
    "    natoms=(len(frame))\n",
    "    \n",
    "    if natoms%4==0:\n",
    "        Y[start:int(start+natoms)] = int(2)\n",
    "        n=2\n",
    "    else:\n",
    "        Y[start:int(start+natoms)] = int(1)\n",
    "        n=1\n",
    "    natoms_list_magic.append(n)\n",
    "    start=start+natoms\n",
    "print(\"Y shape is:\"+ str(Y.shape)), len(natoms_list_magic)"
   ]
  },
  {
   "cell_type": "code",
   "execution_count": 8,
   "id": "e5d955f6",
   "metadata": {},
   "outputs": [
    {
     "name": "stdout",
     "output_type": "stream",
     "text": [
      "Shape of training data is: (14387, 50), Shape of testing data is: (14387, 50), ||X|| = 0.05178064324101465.\n",
      "(14387, 50) (14387, 50) (14387, 1) (14387, 1)\n",
      "(14387, 50) (14387, 50) (14387, 1) (14387, 1)\n"
     ]
    }
   ],
   "source": [
    "# Splits in train and test sets\n",
    "n_train = int(len(Y)/2)  \n",
    "n_test = len(Y)-n_train\n",
    "r_train = np.asarray(range(len(Y)))\n",
    "\n",
    "np.random.shuffle(r_train)\n",
    "\n",
    "i_test = list(sorted(r_train[n_train:]))\n",
    "i_train = list(sorted(r_train[:n_train]))\n",
    "\n",
    "X_train = Xrest[i_train]\n",
    "Y_train = Y[i_train]\n",
    "X_test = Xrest[i_test]\n",
    "Y_test = Y[i_test]\n",
    "\n",
    "print(f'Shape of training data is: {X_train.shape}, Shape of testing data is: {X_test.shape}, ||X|| = {np.linalg.norm(X_train)}.') \n",
    "print(X_train.shape, X_test.shape, Y_train.shape, Y_test.shape)\n",
    "\n",
    "if X_test.shape!=X_train.shape:\n",
    "    X_test=X_test[:-1,:]\n",
    "    Y_test=Y_test[:-1,:]\n",
    "    \n",
    "if X_test.shape!=X_train.shape and X_test.shape<X_train.shape:\n",
    "    X_train=X_train[:-1,:]\n",
    "    Y_train=Y_train[:-1,:]  \n",
    "\n",
    "    \n",
    "print(X_train.shape, X_test.shape, Y_train.shape, Y_test.shape)"
   ]
  },
  {
   "cell_type": "code",
   "execution_count": 10,
   "id": "47faa3d5",
   "metadata": {},
   "outputs": [],
   "source": [
    "x_scaler = StandardFlexibleScaler(column_wise=False).fit(X_train)\n",
    "y_scaler = StandardFlexibleScaler(column_wise=True).fit(Y_train)\n",
    "X=Xrest\n",
    "# Center total dataset\n",
    "X = x_scaler.transform(X)\n",
    "Y = y_scaler.transform(Y)\n",
    "\n",
    "# Center training data\n",
    "X_train = x_scaler.transform(X_train)\n",
    "Y_train = y_scaler.transform(Y_train)\n",
    "\n",
    "# Center training data\n",
    "X_test = x_scaler.transform(X_test)\n",
    "Y_test = y_scaler.transform(Y_test)"
   ]
  },
  {
   "cell_type": "code",
   "execution_count": null,
   "id": "102280a1",
   "metadata": {},
   "outputs": [],
   "source": [
    "kp = KPCovR(mixing=0.8, n_components=2, **kernel_params, center=True, alpha=1E-4)\n",
    "kp.fit(X_train, Y_train)\n",
    "print(kp.alpha)\n",
    "t = kp.transform(X_test)\n",
    "y = kp.predict(X_test)\n",
    "fig, ax = plt.subplots(1, 2, figsize=dbl_fig)\n",
    "\n",
    "plot_projection(Y_test, t, title=\"KPCovR\", fig=fig, ax=ax[0], **cmaps)\n",
    "plot_regression(Y_test[:, 0], y[:, 0], title=\"KPCovR\", fig=fig, ax=ax[1], **cmaps)"
   ]
  },
  {
   "cell_type": "code",
   "execution_count": null,
   "id": "a1e388c6",
   "metadata": {},
   "outputs": [],
   "source": [
    "K_train = gaussian_kernel(X_train, X_train)\n",
    "K_test = gaussian_kernel(X_test, X_train)\n",
    "\n",
    "k_scaler = KernelNormalizer().fit(K_train)\n",
    "\n",
    "K_train = k_scaler.transform(K_train)\n",
    "K_test = k_scaler.transform(K_test)"
   ]
  },
  {
   "cell_type": "code",
   "execution_count": null,
   "id": "64f39a0b",
   "metadata": {},
   "outputs": [],
   "source": [
    "regularization = 1e-3\n",
    "\n",
    "krr = KernelRidge(alpha=regularization, **kernel_params)\n",
    "\n",
    "krr.fit(K_train, Y_train)\n",
    "\n",
    "Y_krr_train = krr.predict(K_train)\n",
    "Y_krr_test = krr.predict(K_test)\n",
    "\n",
    "table_from_dict([get_stats(x=X_train, yp=Y_krr_train, y=Y_train, k=K_train), \n",
    "                 get_stats(x=X_test,  yp=Y_krr_test, y=Y_test, k=K_test)], \n",
    "                 headers = [\"Training\", \"Testing\"], \n",
    "                 title=\"Kernel Ridge Regression\")"
   ]
  },
  {
   "cell_type": "code",
   "execution_count": null,
   "id": "1f948739",
   "metadata": {},
   "outputs": [],
   "source": [
    "\"\"\"How good is the model? 1 is best\"\"\"\n",
    "\n",
    "krr.score(K_test, Y_test)"
   ]
  },
  {
   "cell_type": "code",
   "execution_count": null,
   "id": "a5221cd3",
   "metadata": {},
   "outputs": [],
   "source": [
    "type_kernel=['linear', 'poly', 'rbf']\n",
    "\n",
    "for i in range(len(type_kernel)):\n",
    "    \n",
    "    poly_kernel_svm_clf = Pipeline((\n",
    "            (\"scaler\", StandardScaler()),\n",
    "            (\"svm_clf\", SVC(kernel=str(type_kernel[i]), degree=5, coef0=0.9, C=5))\n",
    "            ))\n",
    "\n",
    "    print(str(type_kernel[i])+': '+ str(poly_kernel_svm_clf.fit(t, Y_test.ravel()). score(t,Y_test.ravel())))\n"
   ]
  },
  {
   "cell_type": "code",
   "execution_count": null,
   "id": "de436411",
   "metadata": {},
   "outputs": [],
   "source": [
    "train_sizes, train_scores, valid_scores = learning_curve(\n",
    "                                    SVC(kernel='linear'), Xrest, Y, train_sizes=[50, 80, 110], cv=5)"
   ]
  },
  {
   "cell_type": "code",
   "execution_count": null,
   "id": "6b307847",
   "metadata": {},
   "outputs": [],
   "source": []
  }
 ],
 "metadata": {
  "kernelspec": {
   "display_name": "aiida",
   "language": "python",
   "name": "aiida"
  },
  "language_info": {
   "codemirror_mode": {
    "name": "ipython",
    "version": 3
   },
   "file_extension": ".py",
   "mimetype": "text/x-python",
   "name": "python",
   "nbconvert_exporter": "python",
   "pygments_lexer": "ipython3",
   "version": "3.8.8"
  }
 },
 "nbformat": 4,
 "nbformat_minor": 5
}
