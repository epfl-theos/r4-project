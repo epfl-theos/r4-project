{
 "cells": [
  {
   "cell_type": "code",
   "execution_count": 1,
   "id": "7533d607",
   "metadata": {},
   "outputs": [
    {
     "name": "stdout",
     "output_type": "stream",
     "text": [
      "WARNING: PRODUCTION DATA NOT PRESENT, USING EXAMPLE DATA FROM REDUCED MP DATA SET (for both experimental and theoretical results, so ou will have a double)!!\n"
     ]
    }
   ],
   "source": [
    "from dataclasses import dataclass\n",
    "from pathlib import Path\n",
    "\n",
    "@dataclass\n",
    "class R4Data:\n",
    "\n",
    "    structures: Path\n",
    "    data: Path\n",
    "    geo: Path\n",
    "    soap: Path\n",
    "    soap_red: Path\n",
    "    chem: Path\n",
    "    chem_red: Path\n",
    "\n",
    "    @classmethod\n",
    "    def from_prefix(cls, prefix: Path):\n",
    "        return cls(\n",
    "            structures=prefix / \"structures.xyz\",\n",
    "            data=prefix / \"data.zip\", \n",
    "            geo=prefix / \"geo.npz\", \n",
    "            soap=prefix / \"soap.npz\",\n",
    "            soap_red=prefix / \"soap_red.npz\",\n",
    "            chem=prefix / \"chem.json.gz\",\n",
    "            chem_red=prefix / \"chem_red.json.gz\"         \n",
    "        )\n",
    "    \n",
    "if Path(\"../r4data\").exists():\n",
    "    print(\"PATH TO PRODUCTION DATA EXISTS\")\n",
    "    DATA_3DCD = R4Data.from_prefix(Path(\"../r4data/3DCD\").resolve())\n",
    "    DATA_MP = R4Data.from_prefix(Path(\"../r4data/MP\").resolve())\n",
    "    if DATA_3DCD.structures.exists()==False:\n",
    "        print(\"But cannot retrieve 3DCD .xyz structural files because the database is not public yet. To get access to the file, please email Adorf Carl Simon at simon.adorf@epfl.ch. Using example MP data instead.\")\n",
    "        DATA_3DCD = R4Data.from_prefix(Path(\"../example_data/\").resolve())\n",
    "else:\n",
    "    print(\"WARNING: PRODUCTION DATA NOT PRESENT, USING EXAMPLE DATA FROM REDUCED MP DATA SET!!\")\n",
    "    DATA_3DCD = R4Data.from_prefix(Path(\"../example_data/\").resolve())\n",
    "    DATA_MP = R4Data.from_prefix(Path(\"../example_data/\").resolve())\n",
    "    DATA_3DCD.soap_red=DATA_3DCD.soap\n",
    "    DATA_MP.soap_red=DATA_MP.soap"
   ]
  },
  {
   "cell_type": "code",
   "execution_count": null,
   "id": "8ffb351d",
   "metadata": {},
   "outputs": [],
   "source": []
  }
 ],
 "metadata": {
  "kernelspec": {
   "display_name": "Python 3",
   "language": "python",
   "name": "python3"
  },
  "language_info": {
   "codemirror_mode": {
    "name": "ipython",
    "version": 3
   },
   "file_extension": ".py",
   "mimetype": "text/x-python",
   "name": "python",
   "nbconvert_exporter": "python",
   "pygments_lexer": "ipython3",
   "version": "3.7.10"
  }
 },
 "nbformat": 4,
 "nbformat_minor": 5
}
