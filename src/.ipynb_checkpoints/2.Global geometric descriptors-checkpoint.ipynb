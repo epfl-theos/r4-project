{
 "cells": [
  {
   "cell_type": "code",
   "execution_count": null,
   "id": "712c4e7c",
   "metadata": {},
   "outputs": [],
   "source": [
    "%run ./modules.ipynb\n",
    "sns.set(style=\"white\", palette=\"muted\", color_codes=True)\n",
    "my_c=colors.ListedColormap([\"mediumblue\", 'red'])\n",
    "c= [\"mediumblue\", 'red']\n",
    "sns.set_palette(sns.color_palette(c))\n"
   ]
  },
  {
   "cell_type": "code",
   "execution_count": null,
   "id": "a00b0649",
   "metadata": {},
   "outputs": [],
   "source": [
    "my_frames=ase.io.read('./example_data_MP.xyz', index=':')"
   ]
  },
  {
   "cell_type": "markdown",
   "id": "4ee26832",
   "metadata": {},
   "source": [
    "GLOBAL DESCRIPTORS FOR PACKING ANALYSIS"
   ]
  },
  {
   "cell_type": "code",
   "execution_count": 7,
   "id": "55ba7280",
   "metadata": {},
   "outputs": [],
   "source": [
    "fcc=np.zeros(len(my_frames))\n",
    "fcc_red=np.zeros(len(my_frames))\n",
    "packing=np.zeros(len(my_frames))\n",
    "n_species=np.zeros(len(my_frames))\n",
    "cn=np.zeros(len(my_frames))\n",
    "alpha=np.zeros(len(my_frames))\n",
    "x=np.zeros(len(my_frames))\n",
    "std_ratio=np.zeros(len(my_frames))\n",
    "magic=np.zeros(len(my_frames))\n",
    "natoms=np.zeros(len(my_frames))\n",
    "hcp=np.zeros(len(my_frames))\n",
    "hcp_red=np.zeros(len(my_frames))\n",
    "red_frame=[]"
   ]
  },
  {
   "cell_type": "code",
   "execution_count": null,
   "id": "a81e4a0b",
   "metadata": {},
   "outputs": [],
   "source": [
    "for i, k in zip(my_frames, range(len(my_frames))):\n",
    "    i.wrap(eps=1e-10)\n",
    "    natoms[k]=len(i)\n",
    "    if len(i)%4==0:\n",
    "        magic[k]=1\n",
    "    frame_py=get_pymatgen(i)\n",
    "    v=i.get_volume()  #unit = A^^3\n",
    "    el=i.get_chemical_symbols()\n",
    "    n_species[k]=(len(np.unique(el)))\n",
    "    rad=get_r(el)\n",
    "    indexes = [i for i,x in enumerate(rad) if x == max(i for i in rad if i is not None)]\n",
    "    max_el=np.array(i.get_chemical_symbols())[indexes]\n",
    "    max_pos=np.array(i.get_positions())[indexes]\n",
    "    new=Atoms(max_el, positions=max_pos, pbc=True, cell=i.get_cell())\n",
    "    red_frame.append(new)\n",
    "    sg_red=(ase.spacegroup.get_spacegroup(new, symprec=1e-05))\n",
    "    sg=ase.spacegroup.get_spacegroup(i, symprec=1e-05)\n",
    "    if 220<sg.no<231:\n",
    "        fcc[k]=int(1)\n",
    "    if 190<sg.no<195:\n",
    "        hcp[k]=int(1)\n",
    "    if 220<sg_red.no<231:\n",
    "        fcc_red[k]=int(1)\n",
    "    if 190<sg_red.no<195:\n",
    "        hcp_red[k]=int(1)\n",
    "    v_atom=sum([(4/3)*pi*(rad[i]/100)**3 for i in range(len(rad))])\n",
    "    nn=np.zeros(len(el))\n",
    "    for l in range(len(el)):   \n",
    "        try:\n",
    "            nn[l]=CrystalNN(weighted_cn=False, distance_cutoffs=None, x_diff_weight=0.0,\n",
    "                    porous_adjustment=False).get_cn(frame_py, l)\n",
    "        except:\n",
    "            pass\n",
    "    cn[k]=nn.mean()\n",
    "    rad=np.array(rad)\n",
    "    n_s=np.count_nonzero(rad == np.min(rad))\n",
    "    n_l=np.count_nonzero(rad == np.max(rad))\n",
    "    alpha[k]=np.min(rad)/np.max(rad)\n",
    "    x[k]=n_s/(n_s+n_l)\n",
    "    std_ratio[k]=np.std(rad)\n",
    "    packing[k]=v_atom/v"
   ]
  },
  {
   "cell_type": "code",
   "execution_count": null,
   "id": "e5014233",
   "metadata": {},
   "outputs": [],
   "source": [
    "dict={r'$\\alpha$':alpha,r'$x$':x, r'$\\sigma_{radii}$':std_ratio,\n",
    "    r'$CN_{avg}$':cn, r'$N_{atoms,cell}$': natoms.ravel(), r'$PF$':packing,\n",
    "'magic':magic.ravel(), r'$N_{species}$': n_species, 'FCC$_{tot}$':fcc,'FCC$_{red}$':fcc_red, 'HCP$_{tot}$':hcp, 'HCP$_{red}$':hcp_red}\n",
    "df= pd.DataFrame(dict)"
   ]
  },
  {
   "cell_type": "markdown",
   "id": "cec19a67",
   "metadata": {},
   "source": [
    "ARE MAGIC STRUCTURES MOSTLY FCC OR HCP ?"
   ]
  },
  {
   "cell_type": "code",
   "execution_count": null,
   "id": "463e71d3",
   "metadata": {},
   "outputs": [],
   "source": [
    "print('total structure: between HCP, '+str(len(df.loc[((df['magic']==1) & (df[r'HCP$_{tot}$']==1))])/len(df.loc[((df[r'HCP$_{tot}$']==1))]))+' percent are magic, reduced structure: between HCP, '+str(len(df.loc[((df['magic']==1) & (df[r'HCP$_{red}$']==1))])/len(df.loc[((df[r'HCP$_{red}$']==1))]))+' percent are magic', \n",
    "'total structure: between FCC, '+str(len(df.loc[((df['magic']==1) & (df[r'FCC$_{tot}$']==1))])/len(df.loc[((df[r'FCC$_{tot}$']==1))]))+' percent are magic, reduced structure: between FCC, '+str(len(df.loc[((df['magic']==1) & (df[r'FCC$_{red}$']==1))])/len(df.loc[((df[r'FCC$_{red}$']==1))]))+' percent are magic')"
   ]
  },
  {
   "cell_type": "markdown",
   "id": "656c4450",
   "metadata": {},
   "source": [
    "PLOTTING MOST RELEVANT GEOMETRIC FEATURES"
   ]
  },
  {
   "cell_type": "code",
   "execution_count": null,
   "id": "b47b38dc",
   "metadata": {},
   "outputs": [],
   "source": [
    "fig, axes = plt.subplots(2,3, figsize=(12,8))\n",
    "\n",
    "sns.histplot(ax=axes[0][0], data=df, x=r'$\\alpha$', hue='magic',stat='probability', legend=False,\n",
    "               common_norm=False,  multiple='dodge', shrink=.8, bins=20)\n",
    "axes[0][0].set_xlim(0,1)\n",
    "axes[0][0].set_title('3DCD', fontsize=23, color='grey')\n",
    "sns.histplot(ax=axes[0][1], data=df, x=r'$PF$', hue='magic',stat='probability', legend=False,\n",
    "               common_norm=False,  multiple='dodge', shrink=.8)\n",
    "\n",
    "axes[0][1].set_ylabel(None)\n",
    "\n",
    "axes[0][1].set_xlim(0,1)\n",
    "sns.histplot(ax=axes[0][2], data=df, x=r'$\\sigma_{radii}$', hue='magic',stat='probability', legend=False,\n",
    "               common_norm=False,  multiple='dodge', shrink=.8, bins=20)\n",
    "axes[0][2].set_ylabel(None)\n",
    "sns.histplot(ax=axes[1][0], data=df, x=r'$N_{species}$', hue='magic',stat='probability', legend=False,\n",
    "               common_norm=False,  multiple='dodge', shrink=.8, bins=int(max(n_species)))\n",
    "sns.histplot(ax=axes[1][1], data=df, x=r'$x$', hue='magic',stat='probability', legend=False,\n",
    "               common_norm=False,  multiple='dodge', shrink=.8)\n",
    "axes[1][1].set_ylabel(None)\n",
    "axes[1][1].set_xlim(0,1)\n",
    "sns.lineplot(ax=axes[1][2], data=df, x=r'$N_{atoms,cell}$', y=r'$CN_{avg}$', hue='magic', legend=False)\n",
    "\n",
    "axes[1][2].set_xlim(0,100)\n",
    "\n",
    "sns.despine(left=True, bottom=True)"
   ]
  },
  {
   "cell_type": "markdown",
   "id": "ad92f1a0",
   "metadata": {},
   "source": [
    "POINT GROUPS - LOCAL SYMMETRIES "
   ]
  },
  {
   "cell_type": "code",
   "execution_count": null,
   "id": "742a3615",
   "metadata": {},
   "outputs": [],
   "source": [
    "sg_list=[]\n",
    "pg_list=[]\n",
    "for j in range(len(my_frames)):\n",
    "    sg=ase.spacegroup.get_spacegroup(frame, symprec=1e-05)\n",
    "    sg=sg.no\n",
    "    sg_list.append(sg)\n",
    "    sp_group=point_group(sg)\n",
    "    pg_list.append(pg)"
   ]
  },
  {
   "cell_type": "code",
   "execution_count": null,
   "id": "2d9b543a",
   "metadata": {},
   "outputs": [],
   "source": [
    "dict={'point_group':pg_list, 'magic':magic.ravel()} \n",
    "df= pd.DataFrame(dict)\n",
    "m=df.loc[df['magic'] == 1]\n",
    "nm=df.loc[df['magic'] == 0]\n",
    "\n",
    "# pg_list_order=['1', '1_','2','m','2/m', \n",
    "#                'mm2','222',  'mmm',\n",
    "#                '4', '4_',  '4_2m','4mm', '422', '4/m','4/mmm',\n",
    "#                '3', '3m', '3_','32', '3_m','6', '6_',\n",
    "#                 '6_m2',  '6/m','622','6mm',  '6/mmm', \n",
    "#                 '23',   '4_3m', '432', 'm_3', 'm3_m']\n",
    "\n",
    "\"\"\"Using function in modules.ipynb to produce inherited symmetry - problem with 432 group \"\"\"\n",
    "\n",
    "inh_symm_m=inh_symm(m['point_group'])\n",
    "inh_symm_whole=inh_symm(df['point_group'])\n",
    "inh_symm_nm=inh_symm(nm['point_group'])\n",
    "\n",
    "inh_symm_m=inh_symm_m.reindex(pg_list_order)\n",
    "inh_symm_nm=inh_symm_nm.reindex(pg_list_order)\n",
    "inh_symm_whole=inh_symm_whole.reindex(pg_list_order)\n",
    "\n",
    "inh_symm_m=inh_symm_m/inh_symm_m['1']\n",
    "inh_symm_nm=inh_symm_nm/inh_symm_nm['1']\n",
    "sns.set(style=\"white\", palette=\"bright\", color_codes=True)\n",
    "f, ax = plt.subplots(figsize=(9, 8))\n",
    "sns.despine(left=True, bottom=True)\n",
    "ax.set_title('Original')\n",
    "inh_symm_m.plot(kind='barh', color='red', alpha=0.7, label='magic')\n",
    "inh_symm_nm.plot(kind='barh', color=\"mediumblue\", alpha=0.4, label='non magic')"
   ]
  }
 ],
 "metadata": {
  "kernelspec": {
   "display_name": "aiida",
   "language": "python",
   "name": "aiida"
  },
  "language_info": {
   "codemirror_mode": {
    "name": "ipython",
    "version": 3
   },
   "file_extension": ".py",
   "mimetype": "text/x-python",
   "name": "python",
   "nbconvert_exporter": "python",
   "pygments_lexer": "ipython3",
   "version": "3.8.8"
  }
 },
 "nbformat": 4,
 "nbformat_minor": 5
}
