{
 "cells": [
  {
   "cell_type": "markdown",
   "id": "67d4f8a0",
   "metadata": {},
   "source": [
    "These produce a final .json file that can be used as an input in chemiscope to produce the final figures of the manuscript. \n",
    "The file can be already found in the downloaded folder.\n",
    "However, if you want to run the notebook yourself, a new chemiscope file will be generated, along with new pcovr figures. "
   ]
  },
  {
   "cell_type": "code",
   "execution_count": null,
   "id": "3d25d139",
   "metadata": {},
   "outputs": [],
   "source": [
    "from data import DATA_MC3D, DATA_MP\n",
    "import pickle\n",
    "from IPython.display import clear_output\n",
    "from sklearn.model_selection import learning_curve"
   ]
  },
  {
   "cell_type": "code",
   "execution_count": null,
   "id": "720f77db",
   "metadata": {},
   "outputs": [],
   "source": [
    "%run ./modules.ipynb\n",
    "\n",
    "sns.set(style=\"white\", palette=\"muted\", color_codes=True)\n",
    "my_c = colors.ListedColormap([\"mediumblue\", \"red\"])\n",
    "c = [\"mediumblue\", \"red\"]\n",
    "sns.set_palette(sns.color_palette(c))\n",
    "\n",
    "n_PC = 5  # number of principal components\n",
    "mixing = 0.5  # beta parameter for pcvor"
   ]
  },
  {
   "cell_type": "code",
   "execution_count": null,
   "id": "9eb2d237",
   "metadata": {},
   "outputs": [],
   "source": [
    "import sys\n",
    "\n",
    "\n",
    "def sizeof_fmt(num, suffix=\"B\"):\n",
    "    \"\"\"by Fred Cirera,  https://stackoverflow.com/a/1094933/1870254, modified\"\"\"\n",
    "    for unit in [\"\", \"Ki\", \"Mi\", \"Gi\", \"Ti\", \"Pi\", \"Ei\", \"Zi\"]:\n",
    "        if abs(num) < 1024.0:\n",
    "            return \"%3.1f %s%s\" % (num, unit, suffix)\n",
    "        num /= 1024.0\n",
    "    return \"%.1f %s%s\" % (num, \"Yi\", suffix)\n",
    "\n",
    "\n",
    "for name, size in sorted(\n",
    "    ((name, sys.getsizeof(value)) for name, value in locals().items()),\n",
    "    key=lambda x: -x[1],\n",
    ")[:10]:\n",
    "    print(\"{:>30}: {:>8}\".format(name, sizeof_fmt(size)))"
   ]
  },
  {
   "cell_type": "code",
   "execution_count": null,
   "id": "71d4c4ea",
   "metadata": {},
   "outputs": [],
   "source": [
    "npzfile_MC3D = np.load(DATA_MC3D.soap, allow_pickle=True)\n",
    "my_frames_MC3D = ase.io.read(DATA_MC3D.structures, index=\":\")\n",
    "magic_MC3D = np.array(npzfile_MC3D[\"magic\"], dtype=int).reshape(-1, 1)\n",
    "y_magic_MC3D = np.copy(magic_MC3D.reshape(-1, 1).ravel())"
   ]
  },
  {
   "cell_type": "code",
   "execution_count": null,
   "id": "81a78a8a",
   "metadata": {},
   "outputs": [],
   "source": [
    "npzfile_mp = np.load(DATA_MP.soap, allow_pickle=True)\n",
    "my_frames_mp = ase.io.read(DATA_MP.structures, index=\":\")\n",
    "magic_mp = np.array(npzfile_mp[\"magic\"], dtype=int).reshape(-1, 1)\n",
    "y_magic_mp = np.copy(magic_mp.reshape(-1, 1).ravel())"
   ]
  },
  {
   "cell_type": "code",
   "execution_count": null,
   "id": "025f37ad",
   "metadata": {},
   "outputs": [],
   "source": [
    "my_frames = np.array([*my_frames_MC3D, *my_frames_mp])\n",
    "my_orig_frames = np.array([*my_frames_MC3D, *my_frames_mp])\n",
    "del my_frames_mp, my_frames_MC3D"
   ]
  },
  {
   "cell_type": "code",
   "execution_count": null,
   "id": "0d243cd9",
   "metadata": {},
   "outputs": [],
   "source": [
    "y_magic = np.hstack((y_magic_MC3D, y_magic_mp))\n",
    "del magic_mp, magic_MC3D, y_magic_MC3D, y_magic_mp"
   ]
  },
  {
   "cell_type": "code",
   "execution_count": null,
   "id": "7196edf9",
   "metadata": {},
   "outputs": [],
   "source": [
    "if os.path.exists(\"train_indices_all.npy\"):\n",
    "    i_train, i_test = np.load(\"train_indices_all.npy\"), np.load(\"test_indices_all.npy\")\n",
    "    y_train, y_test = y_magic[i_train], y_magic[i_test]\n",
    "else:\n",
    "    print(\"generating\")\n",
    "    i_train, i_test, y_train, y_test = train_test_split(\n",
    "        np.arange(X.shape[0]), y_magic, train_size=0.9\n",
    "    )\n",
    "    np.save(\"train_indices_all.npy\", i_train)\n",
    "    np.save(\"test_indices_all.npy\", i_test)"
   ]
  },
  {
   "cell_type": "code",
   "execution_count": null,
   "id": "37af7557",
   "metadata": {},
   "outputs": [],
   "source": [
    "r = 4.0\n",
    "X_raw = np.load(\"soaps_{}.npy\".format(r))\n",
    "x_scaler = pickle.load(open(\"x_scaler_blanked_{}.sav\".format(r), \"rb\"))\n",
    "X = x_scaler.transform(X_raw)\n",
    "X_train, X_test = X_raw[i_train], X_raw[i_test]\n",
    "del X_raw\n",
    "X_train = x_scaler.transform(X_train)\n",
    "X_test = x_scaler.transform(X_test)\n",
    "clf = pickle.load(open(\"random_forest_all_blanked_{}.sav\".format(r), \"rb\"))"
   ]
  },
  {
   "cell_type": "code",
   "execution_count": null,
   "id": "dc40408e",
   "metadata": {},
   "outputs": [],
   "source": [
    "print(\"Accuracy on test set:\" + str(clf.score(X_test, y_test.ravel())))"
   ]
  },
  {
   "cell_type": "code",
   "execution_count": null,
   "id": "4ae35b36",
   "metadata": {},
   "outputs": [],
   "source": [
    "X_raw_MC3D = npzfile_MC3D[\"X_raw\"]\n",
    "X_raw_mp = npzfile_mp[\"X_raw\"]\n",
    "X_raw_tagged = np.vstack((X_raw_MC3D, X_raw_mp))\n",
    "del X_raw_MC3D, X_raw_mp\n",
    "x_tagged_scaler = StandardFlexibleScaler(column_wise=False).fit(X_raw_tagged)"
   ]
  },
  {
   "cell_type": "code",
   "execution_count": null,
   "id": "548f5f5d",
   "metadata": {},
   "outputs": [],
   "source": [
    "X_tagged = x_tagged_scaler.transform(X_raw_tagged)\n",
    "X_tagged_train = X_tagged[i_train]\n",
    "X_tagged_test = X_tagged[i_test]\n",
    "del X_raw_tagged, X_tagged"
   ]
  },
  {
   "cell_type": "code",
   "execution_count": null,
   "id": "05936e9e",
   "metadata": {},
   "outputs": [],
   "source": [
    "from sklearn.tree import DecisionTreeClassifier as DTC\n",
    "from sklearn.svm import LinearSVC as SVC\n",
    "from sklearn.linear_model import LogisticRegressionCV\n",
    "from sklearn.linear_model import SGDClassifier as SGDC\n",
    "from sklearn.neural_network import MLPClassifier as MLP\n",
    "from sklearn.ensemble import AdaBoostClassifier as ABC\n",
    "from sklearn.naive_bayes import GaussianNB as GNB\n",
    "from sklearn.discriminant_analysis import QuadraticDiscriminantAnalysis as QDA"
   ]
  },
  {
   "cell_type": "code",
   "execution_count": null,
   "id": "dd295ba8",
   "metadata": {},
   "outputs": [],
   "source": [
    "estimators = {\n",
    "    \"Random Forest\": {\n",
    "        \"model\": RandomForestClassifier(\n",
    "            verbose=2, n_estimators=100, random_state=2, n_jobs=4\n",
    "        ),\n",
    "        \"save_name\": \"random_forest_all\",\n",
    "    },\n",
    "    \"Decision Tree\": {\n",
    "        \"model\": DTC(random_state=2, max_features=80),\n",
    "        \"save_name\": \"dtc_all\",\n",
    "    },\n",
    "    \"Linear SVM\": {\"model\": SVC(verbose=2, random_state=2), \"save_name\": \"svc_all\"},\n",
    "    \"Cross-Validated Logistic Regression\": {\n",
    "        \"model\": LogisticRegressionCV(verbose=2, cv=2, random_state=2, n_jobs=4),\n",
    "        \"save_name\": \"cvlr_all\",\n",
    "    },\n",
    "    \"Stochastic Gradient Descent Classifier\": {\n",
    "        \"model\": SGDC(verbose=2, n_jobs=4, max_iter=100, random_state=2),\n",
    "        \"save_name\": \"sgdc_all\",\n",
    "    },\n",
    "    \"QDA\": {\"model\": QDA(), \"save_name\": \"qda_all\"},\n",
    "    \"Gaussian Naive Bayes\": {\"model\": GNB(), \"save_name\": \"gnb\"},\n",
    "    \"MLP Classifier\": {\"model\": MLP(verbose=2, random_state=2), \"save_name\": \"mlp\"},\n",
    "}"
   ]
  },
  {
   "cell_type": "code",
   "execution_count": null,
   "id": "8fc9ad7d",
   "metadata": {},
   "outputs": [],
   "source": [
    "class_table = (\n",
    "    \"\\\\begin{table}[htbp!]\"\n",
    "    + \"\\n\\\\centering\\n\\\\begin{tabular}{|m{2.0cm}|m{2.0cm}|m{10cm}|}\"\n",
    "    + \"\\n\\\\hline\\nClassifier & Test Set R$^2$ & Test Set R$^2$ &Classifier parameters\\\\\\\\\"\n",
    "    + \"\\n\\\\hline\\n & (Species-Invariant) & (Species-Tagged) &\\\\\\\\\"\n",
    "    + \"\\n\\\\hline\"\n",
    "    + \"\\n\\\\hline\"\n",
    ")\n",
    "\n",
    "for e, v in estimators.items():\n",
    "    save_name = v[\"save_name\"]\n",
    "    if \"blanked_error\" not in v:\n",
    "        if not os.path.exists(save_name + \"_XX.sav\"):\n",
    "            print(f\"Fitting {e}\")\n",
    "            model = v[\"model\"]\n",
    "            pickle.dump(model.fit(X_train, y_train), open(save_name + \"_XX.sav\", \"wb\"))\n",
    "            print(save_name + \"_XX.sav\")\n",
    "        model = pickle.load(open(save_name + \"_XX.sav\", \"rb\"))\n",
    "        estimators[e][\"blanked_error\"] = model.score(X_test, y_test)\n",
    "    if \"tagged_error\" not in v:\n",
    "        if not os.path.exists(save_name + \".sav\"):\n",
    "            print(f\"Fitting {e}\")\n",
    "            model = v[\"model\"]\n",
    "            pickle.dump(\n",
    "                model.fit(X_tagged_train, y_train), open(save_name + \".sav\", \"wb\")\n",
    "            )\n",
    "            print(save_name + \".sav\")\n",
    "        if os.path.exists(save_name + \".sav\"):\n",
    "            model = pickle.load(open(save_name + \".sav\", \"rb\"))\n",
    "            estimators[e][\"tagged_error\"] = model.score(X_tagged_test, y_test)\n",
    "\n",
    "    params = \", \".join(\n",
    "        [\n",
    "            f'\\\\texttt{{{k.replace(\"_\", \" \")}}}: {v.replace(\"_\", \" \") if isinstance(v, str) else v}'\n",
    "            for k, v in estimators[e][\"model\"].get_params().items()\n",
    "        ]\n",
    "    )\n",
    "    class_table += f'\\n{e} & {round(estimators[e].get(\"blanked_error\", -1),3)} & {round(estimators[e].get(\"tagged_error\", -1),3)} &\\\\{{{params}\\\\}}\\\\\\\\\\n\\\\hline'\n",
    "\n",
    "class_table += (\n",
    "    \"\\\\end{tabular}\"\n",
    "    + \"\\n\\\\caption{Accuracy on test set achieved by different classifiers.}  \"\n",
    "    + \"\\n\\\\label{table:classif}\"\n",
    "    \"\\n\\\\end{table}\"\n",
    ")"
   ]
  },
  {
   "cell_type": "code",
   "execution_count": null,
   "id": "247036e8",
   "metadata": {},
   "outputs": [],
   "source": [
    "print(class_table)"
   ]
  },
  {
   "cell_type": "code",
   "execution_count": null,
   "id": "4dc83115",
   "metadata": {},
   "outputs": [],
   "source": []
  },
  {
   "cell_type": "code",
   "execution_count": null,
   "id": "f8b6bfac",
   "metadata": {},
   "outputs": [],
   "source": []
  }
 ],
 "metadata": {
  "kernelspec": {
   "display_name": "Python 3",
   "language": "python",
   "name": "python3"
  },
  "language_info": {
   "codemirror_mode": {
    "name": "ipython",
    "version": 3
   },
   "file_extension": ".py",
   "mimetype": "text/x-python",
   "name": "python",
   "nbconvert_exporter": "python",
   "pygments_lexer": "ipython3",
   "version": "3.9.7"
  }
 },
 "nbformat": 4,
 "nbformat_minor": 5
}
