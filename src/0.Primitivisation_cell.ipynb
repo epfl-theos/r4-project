{
 "cells": [
  {
   "cell_type": "code",
   "execution_count": null,
   "id": "4424df39",
   "metadata": {},
   "outputs": [],
   "source": [
    "\"\"\"Only possible for experimental data of which we need the cristallographic information \n",
    "files (CIF) before primitivisation. \n",
    "Otherise, possible to perform analysis on the already primitivised unit cell. \"\"\"\n",
    "\n",
    "\n",
    "\n",
    "tol=[1e-1, 1e-2, 1e-3,1e-4,1e-5, 1e-6,1e-7, 1e-8]\n",
    "sns.set(style=\"white\", palette=\"muted\", color_codes=True)\n",
    "fig, axs = plt.subplots(4,2, figsize=(12, 12),\n",
    "                        sharex=True, sharey=True)\n",
    "axs = axs.ravel()\n",
    "sns.despine(left=True, bottom=True)\n",
    "\n",
    "for j in range(len(tol)):\n",
    "    sns.histplot(ax=axs[j], data=natoms_tot[j], stat='probability', bins=int(max(natoms_tot[j])))\n",
    "    sns.despine(left=True, bottom=True)\n",
    "    \n",
    "    axs[j].set_xlabel(r'$N_{atoms,primitve}$')\n",
    "    axs[j].set_xlim(0,100)\n",
    "    axs[j].set_ylim(0,0.08)\n",
    "    axs[j].set_title('tol = '+str(tol[j])+', H = '+str(entropies[j]))\n"
   ]
  }
 ],
 "metadata": {
  "kernelspec": {
   "display_name": "aiida",
   "language": "python",
   "name": "aiida"
  },
  "language_info": {
   "codemirror_mode": {
    "name": "ipython",
    "version": 3
   },
   "file_extension": ".py",
   "mimetype": "text/x-python",
   "name": "python",
   "nbconvert_exporter": "python",
   "pygments_lexer": "ipython3",
   "version": "3.8.8"
  }
 },
 "nbformat": 4,
 "nbformat_minor": 5
}
