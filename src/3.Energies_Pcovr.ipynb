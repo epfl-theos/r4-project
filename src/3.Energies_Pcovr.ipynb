{
 "cells": [
  {
   "cell_type": "markdown",
   "id": "91072721",
   "metadata": {},
   "source": [
    "This notebook can be run on MP data only, as they already contain the formation energeis per atom. We did not calculate these for the experimental 3DCD data set. "
   ]
  },
  {
   "cell_type": "code",
   "execution_count": null,
   "id": "dd0240e6",
   "metadata": {},
   "outputs": [],
   "source": [
    "from data import DATA_3DCD, DATA_MP"
   ]
  },
  {
   "cell_type": "code",
   "execution_count": null,
   "id": "f2b4c02a",
   "metadata": {},
   "outputs": [],
   "source": [
    "%run ./modules.ipynb\n",
    "sns.set(style=\"white\", palette=\"muted\", color_codes=True)\n",
    "my_c = colors.ListedColormap([\"mediumblue\", \"red\"])\n",
    "c = [\"mediumblue\", \"red\"]\n",
    "sns.set_palette(sns.color_palette(c))"
   ]
  },
  {
   "cell_type": "markdown",
   "id": "c24eb520",
   "metadata": {},
   "source": [
    "LOADING FORMATION ENERGIES"
   ]
  },
  {
   "cell_type": "code",
   "execution_count": null,
   "id": "f6e34284",
   "metadata": {},
   "outputs": [],
   "source": [
    "from pathlib import Path\n",
    "\n",
    "df = pd.read_csv(DATA_MP.data)"
   ]
  },
  {
   "cell_type": "code",
   "execution_count": null,
   "id": "5de39d96-3e23-4ddf-afb7-c0a31df1a588",
   "metadata": {},
   "outputs": [],
   "source": [
    "npzfile = np.load(DATA_MP.soap, allow_pickle=True)\n",
    "\n",
    "# TODO: FIX THE INDEX MAPPING!!!\n",
    "idx = npzfile[\"idx\"]\n",
    "# idx_ = idx[idx < len(idx) - 1]\n",
    "df = df.loc[idx]\n",
    "# df = df[:-1]\n",
    "######\n",
    "\n",
    "\n",
    "df[\"magic\"] = npzfile[\"magic\"]"
   ]
  },
  {
   "cell_type": "code",
   "execution_count": null,
   "id": "bbcca796",
   "metadata": {},
   "outputs": [],
   "source": [
    "f, ax = plt.subplots(figsize=(9, 8))\n",
    "sns.histplot(\n",
    "    data=df,\n",
    "    x=\"e_form\",\n",
    "    hue=\"magic\",\n",
    "    multiple=\"dodge\",\n",
    "    legend=False,\n",
    "    common_norm=False,\n",
    "    stat=\"probability\",\n",
    "    kde=True,\n",
    ")\n",
    "sns.despine(left=True, bottom=True)\n",
    "plt.xlabel(\"Formation Energy per atom (eV)\")"
   ]
  },
  {
   "cell_type": "code",
   "execution_count": null,
   "id": "cc97a52c",
   "metadata": {},
   "outputs": [],
   "source": [
    "X_raw = npzfile[\"X_raw\"]\n",
    "y_raw = y_raw = np.array(df[\"e_form\"]).reshape(-1, 1)\n",
    "y_atom = npzfile[\"magic\"]\n",
    "my_frames = npzfile[\"my_frames\"]"
   ]
  },
  {
   "cell_type": "markdown",
   "id": "65a09a30",
   "metadata": {},
   "source": [
    "PRINCIPAL COVARIATES REGRESSION (PCovR) REPRESENTATION"
   ]
  },
  {
   "cell_type": "code",
   "execution_count": null,
   "id": "ad4e0a4e",
   "metadata": {},
   "outputs": [],
   "source": [
    "i_train, i_test, X_train, X_test, y_train, y_test = train_test_split(\n",
    "    np.arange(X_raw.shape[0]), X_raw, y_raw, train_size=0.8\n",
    ")\n",
    "print(f\"Shape of testing data is: {X_train.shape}, ||X|| = {np.linalg.norm(X_train)}.\")\n",
    "print(X_train.shape, X_test.shape, y_train.shape, y_test.shape)\n",
    "\n",
    "print(\n",
    "    \"Norm of the features: %0.2f \\nNorm of the targets: %0.2f\"\n",
    "    % (np.linalg.norm(X_raw), np.linalg.norm(y_raw))\n",
    ")\n",
    "x_scaler = StandardFlexibleScaler(column_wise=False).fit(X_raw)\n",
    "y_scaler = StandardFlexibleScaler(column_wise=True).fit(y_raw)\n",
    "\n",
    "# Center total dataset\n",
    "X = x_scaler.transform(X_raw)\n",
    "Y = y_scaler.transform(y_raw)\n",
    "\n",
    "# Center training data\n",
    "X_train = x_scaler.transform(X_train)\n",
    "y_train = y_scaler.transform(y_train)\n",
    "\n",
    "# Center training data\n",
    "X_test = x_scaler.transform(X_test)\n",
    "y_test = y_scaler.transform(y_test)\n",
    "\n",
    "print(\"After normalization: \")\n",
    "print(f\"Shape of testing data is: {X_train.shape}, ||X|| = {np.linalg.norm(X_train)}.\")\n",
    "print(X_train.shape, X_test.shape, y_train.shape, y_test.shape)\n",
    "\n",
    "print(\n",
    "    \"Norm of the features: %0.2f \\nNorm of the targets: %0.2f\"\n",
    "    % (np.linalg.norm(X_raw), np.linalg.norm(y_raw))\n",
    ")"
   ]
  },
  {
   "cell_type": "markdown",
   "id": "7447d708",
   "metadata": {},
   "source": [
    "GRID CV REGRESSION"
   ]
  },
  {
   "cell_type": "code",
   "execution_count": null,
   "id": "2d42bec6",
   "metadata": {},
   "outputs": [],
   "source": [
    "alphas = np.logspace(-0, -6, 30)\n",
    "ridgecv = RidgeCV(cv=4, fit_intercept=False, alphas=alphas)\n",
    "ridgecv.fit(X_train, y_train)\n",
    "yp_test = ridgecv.predict(X_test)\n",
    "yp_train = ridgecv.predict(X_train)\n",
    "print(\"R^2 of training is \", ridgecv.score(X_train, y_train))\n",
    "print(\"R^2 of testing is \", ridgecv.score(X_test, y_test))\n",
    "print(\"Best regularization is \", ridgecv.alpha_)\n",
    "\n",
    "fig, (ax_train, ax_test) = plt.subplots(1, 2, figsize=(8, 4), sharex=True, sharey=True)\n",
    "ax_train.scatter(y_train, yp_train, c=np.abs(y_train - yp_train), cmap=\"bone_r\")\n",
    "ax_test.scatter(y_test, yp_test, c=np.abs(y_test - yp_test), cmap=\"bone_r\")\n",
    "\n",
    "bounds = (\n",
    "    np.min((Y.min(), yp_train.min(), yp_test.min())),\n",
    "    np.max((Y.max(), yp_train.max(), yp_test.max())),\n",
    ")\n",
    "\n",
    "ax_train.plot(bounds, bounds, \"r--\")\n",
    "ax_train.set_title(\"Training set\")\n",
    "ax_test.set_title(\"Testing set\")\n",
    "ax_test.plot(bounds, bounds, \"r--\")\n",
    "sns.despine(left=True, bottom=True)\n",
    "\n",
    "print(\"RMSE on predicted quantity = \", mean_squared_error(y_test, yp_test))"
   ]
  },
  {
   "cell_type": "markdown",
   "id": "f5428581",
   "metadata": {},
   "source": [
    "HOW MIXING PARAMETER BETA (BETWEEN PCA AND REGRESSION) AFFECTS PCOVR"
   ]
  },
  {
   "cell_type": "code",
   "execution_count": null,
   "id": "1407b0b7",
   "metadata": {},
   "outputs": [],
   "source": [
    "betas = [0, 0.25, 0.5, 0.75, 1]\n",
    "\n",
    "fig, axes = plt.subplots(2, 5, figsize=(17, 10))\n",
    "sns.despine(left=True, bottom=True)\n",
    "\n",
    "for i in range(len(betas)):\n",
    "\n",
    "    pcovr = PCovR(mixing=betas[i], n_components=2)\n",
    "    pcovr.fit(X, Y)\n",
    "    T = pcovr.transform(X)\n",
    "    yp = pcovr.predict(X)\n",
    "\n",
    "    axes[0, i].scatter(\n",
    "        T[:, 0],\n",
    "        T[:, 1],\n",
    "        s=50,\n",
    "        alpha=0.3,\n",
    "        c=y_atom,\n",
    "        cmap=colors.ListedColormap([\"mediumblue\", \"red\"]),\n",
    "    )\n",
    "    axes[0, i].set_xlabel(r\"$PC_1$\")\n",
    "    axes[0, i].set_ylabel(r\"$PC_2$\")\n",
    "\n",
    "    axes[1, i].scatter(Y, yp, s=50, alpha=0.7, c=np.abs(Y - yp), cmap=\"bone_r\")\n",
    "    axes[1, i].plot(axes[1, i].get_xlim(), axes[1, i].get_xlim(), \"r--\")\n",
    "    axes[1, i].set_xlabel(r\"y\")\n",
    "    axes[1, i].set_ylabel(r\"predicted y\")\n",
    "\n",
    "    axes[0, i].set_title(r\"$\\beta=$\" + str(betas[i]))\n",
    "    fig.tight_layout()"
   ]
  },
  {
   "cell_type": "markdown",
   "id": "82730444",
   "metadata": {},
   "source": [
    "ENERGY DESCRIPTORS "
   ]
  },
  {
   "cell_type": "code",
   "execution_count": null,
   "id": "183a2254",
   "metadata": {},
   "outputs": [],
   "source": [
    "df.head()\n",
    "e_form = df[\"e_form\"]\n",
    "e_hull = df[\"e_hull\"]\n",
    "e_gap = df[\"gap pbe\"]"
   ]
  },
  {
   "cell_type": "code",
   "execution_count": null,
   "id": "31f571cd",
   "metadata": {},
   "outputs": [],
   "source": [
    "n_PC = 5  #  number of principal covariates\n",
    "titles = [\n",
    "    \"Formation energy per atom (eV)\",\n",
    "    \"Energy above convex hull (eV)\",\n",
    "    \"Band gab energy (eV)\",\n",
    "]\n",
    "quantity = [e_form, e_hull, e_gap]\n",
    "for i in range(len(titles)):\n",
    "    X = np.copy(X_raw)\n",
    "    y_raw = np.array(quantity[i]).reshape(-1, 1)\n",
    "    i_train, i_test, X_train, X_test, y_train, y_test = train_test_split(\n",
    "        np.arange(X.shape[0]), X, y_raw, train_size=0.8\n",
    "    )\n",
    "\n",
    "    x_scaler = StandardFlexibleScaler(column_wise=False).fit(X)\n",
    "    y_scaler = StandardFlexibleScaler(column_wise=True).fit(y_raw)\n",
    "\n",
    "    # Center total dataset\n",
    "    X = x_scaler.transform(X)\n",
    "    Y = y_scaler.transform(y_raw)\n",
    "\n",
    "    # Center training data\n",
    "    X_train = x_scaler.transform(X_train)\n",
    "    y_train = y_scaler.transform(y_train)\n",
    "\n",
    "    # Center training data\n",
    "    X_test = x_scaler.transform(X_test)\n",
    "    y_test = y_scaler.transform(y_test)\n",
    "    pcovr = PCovR(mixing=0.5, n_components=n_PC)\n",
    "    pcovr.fit(X, Y)\n",
    "\n",
    "    T = pcovr.transform(X)\n",
    "    yp = pcovr.predict(X)\n",
    "\n",
    "    ridgecv.fit(X_train, y_train)\n",
    "    yp_test = ridgecv.predict(X_test)\n",
    "\n",
    "    # SCATTER PLOTS\n",
    "    fig, (ax1, ax2) = plt.subplots(1, 2, figsize=(8, 4), sharex=True, sharey=True)\n",
    "    ax1.scatter(T[:, 0], T[:, 1], alpha=0.4, c=y_atom, cmap=my_c)\n",
    "    g = ax2.scatter(T[:, 0], T[:, 1], alpha=0.4, c=Y, cmap=\"plasma\")\n",
    "    plt.colorbar(g, orientation=\"vertical\", label=titles[i])\n",
    "    ax1.set_xlabel(r\"$PCov_1$\")\n",
    "    ax2.set_xlabel(r\"$PCov_1$\")\n",
    "    ax1.set_ylabel(r\"$PCov_2$\")\n",
    "    fig.tight_layout()\n",
    "    sns.despine(left=True, bottom=True)\n",
    "\n",
    "    # LINE PLOT\n",
    "    df = pd.DataFrame(T)\n",
    "    g = sns.jointplot(\n",
    "        data=df, x=df[0], y=df[1], hue=y_atom.ravel(), kind=\"kde\", legend=False\n",
    "    )\n",
    "    g.set_axis_labels(r\"$PCov_1$\", r\"$PCov_2$\")\n",
    "    fig.tight_layout()\n",
    "    sns.despine(left=True, bottom=True)\n",
    "\n",
    "    print(\"R^2 with PCovR= \", pcovr.score(X, Y))\n",
    "    print(\"R^2 of testing is with RidgeCV\", ridgecv.score(X_test, y_test))\n",
    "    print(\"RMSE on predicted quantity = \", mean_squared_error(y_test, yp_test))\n",
    "    print(\n",
    "        \"error in units (eV) of predicted quantity before scaling = \",\n",
    "        (max(y_raw) - min(y_raw)) * (1 - ridgecv.score(X_test, y_test)),\n",
    "    )\n",
    "    print(\n",
    "        \"error in units (eV) of predicted quantity after scaling= \",\n",
    "        (max(Y) - min(Y)) * (1 - ridgecv.score(X_test, y_test)),\n",
    "    )\n",
    "\n",
    "    plt.show()\n",
    "    plt.close()"
   ]
  },
  {
   "cell_type": "code",
   "execution_count": null,
   "id": "4d3b579d",
   "metadata": {},
   "outputs": [],
   "source": []
  }
 ],
 "metadata": {
  "kernelspec": {
   "display_name": "Python 3",
   "language": "python",
   "name": "python3"
  },
  "language_info": {
   "codemirror_mode": {
    "name": "ipython",
    "version": 3
   },
   "file_extension": ".py",
   "mimetype": "text/x-python",
   "name": "python",
   "nbconvert_exporter": "python",
   "pygments_lexer": "ipython3",
   "version": "3.7.10"
  }
 },
 "nbformat": 4,
 "nbformat_minor": 5
}
