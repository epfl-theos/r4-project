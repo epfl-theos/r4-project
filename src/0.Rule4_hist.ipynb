{
 "cells": [
  {
   "cell_type": "code",
   "execution_count": null,
   "id": "39ff03f3",
   "metadata": {},
   "outputs": [],
   "source": [
    "%run ./modules.ipynb\n",
    "%run ./data.ipynb"
   ]
  },
  {
   "cell_type": "code",
   "execution_count": null,
   "id": "8cdae082",
   "metadata": {},
   "outputs": [],
   "source": [
    "mp_frames = ase.io.read(DATA_MP.structures, index=\":\")\n",
    "exp_frames = ase.io.read(DATA_3DCD.structures, index=\":\")"
   ]
  },
  {
   "cell_type": "code",
   "execution_count": null,
   "id": "67dd2e27",
   "metadata": {},
   "outputs": [],
   "source": [
    "len(mp_frames), len(exp_frames)"
   ]
  },
  {
   "cell_type": "code",
   "execution_count": null,
   "id": "c7b2d3f6",
   "metadata": {},
   "outputs": [],
   "source": [
    "natoms_mp = np.zeros(len(mp_frames))\n",
    "natoms_exp = np.zeros(len(exp_frames))\n",
    "for i, k in zip(mp_frames, range(len(mp_frames))):\n",
    "    i.wrap(eps=1e-10)\n",
    "    natoms_mp[k] = len(i)\n",
    "\n",
    "for i, k in zip(exp_frames, range(len(exp_frames))):\n",
    "    i.wrap(eps=1e-10)\n",
    "    natoms_exp[k] = len(i)"
   ]
  },
  {
   "cell_type": "code",
   "execution_count": null,
   "id": "beaf90ce",
   "metadata": {},
   "outputs": [],
   "source": [
    "natoms_mp.max()"
   ]
  },
  {
   "cell_type": "code",
   "execution_count": null,
   "id": "7e259174",
   "metadata": {},
   "outputs": [],
   "source": [
    "sns.set(style=\"white\", palette=\"muted\", color_codes=True)\n",
    "\n",
    "fig, (ax1, ax2) = plt.subplots(1, 2, figsize=(11, 6))\n",
    "sns.histplot(ax=ax2, data=natoms_mp, stat=\"probability\", bins=int(natoms_mp.max()))\n",
    "sns.histplot(ax=ax1, data=natoms_exp, stat=\"probability\", bins=int(natoms_exp.max()))\n",
    "sns.despine(left=True, bottom=True)\n",
    "ax1.set_xlim(0, 100)\n",
    "ax2.set_ylabel(None)\n",
    "ax2.set_xlim(0, 100)\n",
    "ax1.set_xlabel(r\"$N_{atoms, cell}$\")\n",
    "ax2.set_xlabel(r\"$N_{atoms, cell}$\")"
   ]
  },
  {
   "cell_type": "markdown",
   "id": "2c2359ad",
   "metadata": {},
   "source": [
    "Calculating the Jensen-Shannon divergence to quanitfy the Rule of Four (link that explains differences between KL and JS divergences: https://yongchaohuang.github.io/2020-07-08-kl-divergence/)."
   ]
  },
  {
   "cell_type": "code",
   "execution_count": null,
   "id": "e095724b",
   "metadata": {},
   "outputs": [],
   "source": [
    "from scipy.spatial import distance\n",
    "\n",
    "p = sns.histplot(\n",
    "    data=natoms_exp, stat=\"probability\", bins=int(natoms_exp.max()), kde=True\n",
    ")\n",
    "kdeline = p.lines[0]\n",
    "xs = kdeline.get_xdata()\n",
    "ys = kdeline.get_ydata()\n",
    "sns.despine(left=True, bottom=True)\n",
    "plt.xlim(0, 100)\n",
    "plt.show()\n",
    "r_h_magic = np.asarray([h.get_height() for h in p.patches][0:200][3::4])\n",
    "n_h_magic = ys[0:200][3::4]\n",
    "len(r_h_magic), len(n_h_magic)\n",
    "\n",
    "js_magic = distance.jensenshannon(r_h_magic, n_h_magic)\n",
    "print(\n",
    "    \"The JS divergence between the histogram and its smooth counterpart for the 3DCD data set is equivalent to \",\n",
    "    js_magic,\n",
    ")\n",
    "\n",
    "p = sns.histplot(\n",
    "    data=natoms_mp, stat=\"probability\", bins=int(natoms_mp.max()), kde=True\n",
    ")\n",
    "kdeline = p.lines[0]\n",
    "xs = kdeline.get_xdata()\n",
    "ys = kdeline.get_ydata()\n",
    "sns.despine(left=True, bottom=True)\n",
    "plt.xlim(0, 100)\n",
    "plt.show()\n",
    "r_h_magic = np.asarray([h.get_height() for h in p.patches][0:200][3::4])\n",
    "n_h_magic = ys[0:200][3::4]\n",
    "len(r_h_magic), len(n_h_magic)\n",
    "\n",
    "js_magic = distance.jensenshannon(r_h_magic, n_h_magic)\n",
    "print(\n",
    "    \"The JS divergence between the histogram and its smooth counterpart for the MP data set is equivalent to \",\n",
    "    js_magic,\n",
    ")"
   ]
  }
 ],
 "metadata": {
  "kernelspec": {
   "display_name": "Python 3 (ipykernel)",
   "language": "python",
   "name": "python3"
  },
  "language_info": {
   "codemirror_mode": {
    "name": "ipython",
    "version": 3
   },
   "file_extension": ".py",
   "mimetype": "text/x-python",
   "name": "python",
   "nbconvert_exporter": "python",
   "pygments_lexer": "ipython3",
   "version": "3.8.5"
  }
 },
 "nbformat": 4,
 "nbformat_minor": 5
}
