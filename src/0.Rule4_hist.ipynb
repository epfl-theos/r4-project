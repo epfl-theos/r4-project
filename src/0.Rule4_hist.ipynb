{
 "cells": [
  {
   "cell_type": "code",
   "execution_count": null,
   "id": "45481b1d",
   "metadata": {},
   "outputs": [],
   "source": [
    "from data import DATA_3DCD, DATA_MP"
   ]
  },
  {
   "cell_type": "code",
   "execution_count": null,
   "id": "39ff03f3",
   "metadata": {},
   "outputs": [],
   "source": [
    "%run ./modules.ipynb"
   ]
  },
  {
   "cell_type": "code",
   "execution_count": null,
   "id": "8cdae082",
   "metadata": {},
   "outputs": [],
   "source": [
    "mp_frames = ase.io.read(DATA_MP.structures, index=\":\")\n",
    "exp_frames = ase.io.read(DATA_3DCD.structures, index=\":\")"
   ]
  },
  {
   "cell_type": "code",
   "execution_count": null,
   "id": "67dd2e27",
   "metadata": {},
   "outputs": [],
   "source": [
    "len(mp_frames), len(exp_frames)"
   ]
  },
  {
   "cell_type": "code",
   "execution_count": null,
   "id": "c7b2d3f6",
   "metadata": {},
   "outputs": [],
   "source": [
    "natoms_mp = np.zeros(len(mp_frames), dtype=int)\n",
    "natoms_exp = np.zeros(len(exp_frames), dtype=int)\n",
    "\n",
    "for i, frame in enumerate(tqdm(mp_frames)):\n",
    "    frame.wrap(eps=1e-10)\n",
    "    natoms_mp[i] = len(frame)\n",
    "\n",
    "for i, frame in enumerate(tqdm(exp_frames)):\n",
    "    frame.wrap(eps=1e-10)\n",
    "    natoms_exp[i] = len(frame)"
   ]
  },
  {
   "cell_type": "code",
   "execution_count": null,
   "id": "beaf90ce",
   "metadata": {},
   "outputs": [],
   "source": [
    "import PIL\n",
    "from mpl_toolkits.axes_grid1.inset_locator import inset_axes\n",
    "mat_project_logo = PIL.Image.open('mat_proj_logo.png')\n",
    "m3dcd_logo = PIL.Image.open('5eb44b50.mc3d.png')"
   ]
  },
  {
   "cell_type": "code",
   "execution_count": null,
   "id": "b1a23744",
   "metadata": {},
   "outputs": [],
   "source": [
    "n_magic_mp = len(np.where(natoms_mp%4==0)[0])\n",
    "n_nonmagic_mp = len(np.where(natoms_mp%4!=0)[0])\n",
    "\n",
    "n_magic_3dcd = len(np.where(natoms_exp%4==0)[0])\n",
    "n_nonmagic_3dcd = len(np.where(natoms_exp%4!=0)[0])"
   ]
  },
  {
   "cell_type": "code",
   "execution_count": null,
   "id": "7e259174",
   "metadata": {},
   "outputs": [],
   "source": [
    "sns.set(style=\"white\", palette=\"muted\", color_codes=True)\n",
    "\n",
    "fig, (ax1, ax2) = plt.subplots(2, 1, figsize=(6, 8))\n",
    "sns.histplot(ax=ax2, data=natoms_mp, stat=\"probability\", bins=int(natoms_mp.max()))\n",
    "sns.histplot(ax=ax1, data=natoms_exp, stat=\"probability\", bins=int(natoms_exp.max()))\n",
    "\n",
    "mat_inset = inset_axes(ax1, width=\"50%\", height=\"40%\", borderpad=1, loc='upper right')\n",
    "mat_inset.imshow(mat_project_logo)\n",
    "mat_inset.axis('off')\n",
    "mat_inset.text(x=0.5, y=-0.05, ha='center', va='top', \n",
    "                 s='The Materials Project (MP)',\n",
    "                 fontsize=12,\n",
    "                 transform=mat_inset.transAxes)\n",
    "mat_inset.text(x=0.5, y=-0.225, ha='center', va='top', \n",
    "                 s='$n_{{\\\\rm{{magic}}}}$={}, $n_{{\\\\rm{{non-magic}}}}$={}'.format(n_magic_mp, n_nonmagic_mp),\n",
    "                 fontsize=10,\n",
    "                 transform=mat_inset.transAxes)\n",
    "\n",
    "m3dcd_inset = inset_axes(ax2, width=\"50%\", height=\"50%\", borderpad=1, loc='upper right')\n",
    "m3dcd_inset.imshow(m3dcd_logo)\n",
    "m3dcd_inset.axis('off')\n",
    "m3dcd_inset.text(x=0.5, y=0.0, ha='center', va='top', \n",
    "                 s='Materials Cloud three-dimensional\\ncrystals database (MC3D)',\n",
    "                 fontsize=12,\n",
    "                 transform=m3dcd_inset.transAxes)\n",
    "m3dcd_inset.text(x=0.5, y=-0.25, ha='center', va='top', \n",
    "                 s='$n_{{\\\\rm{{magic}}}}$={}, $n_{{\\\\rm{{non-magic}}}}$={}'.format(n_magic_3dcd, n_nonmagic_3dcd),\n",
    "                 fontsize=10,\n",
    "                 transform=m3dcd_inset.transAxes)\n",
    "sns.despine(left=True, bottom=True)\n",
    "ax1.set_xlim(0, 100)\n",
    "ax2.set_xlim(0, 100)\n",
    "ax2.set_xlabel(r\"$N_{atoms, cell}$\")\n",
    "\n",
    "plt.savefig('natoms1.png')"
   ]
  },
  {
   "cell_type": "code",
   "execution_count": null,
   "id": "76efbe8f",
   "metadata": {},
   "outputs": [],
   "source": [
    "ns = range(3, 20)\n",
    "n_magic_all_mp = np.zeros(len(ns))\n",
    "n_magic_all_3dcd = np.zeros(len(ns))\n",
    "n_nmagic_all_mp = np.zeros(len(ns))\n",
    "n_nmagic_all_3dcd = np.zeros(len(ns))\n",
    "for i, v in enumerate(tqdm(ns)):\n",
    "    n_magic_all_mp[i] = len(np.where(natoms_mp%v==0)[0])\n",
    "    n_magic_all_3dcd[i] = len(np.where(natoms_exp%v==0)[0])\n",
    "    n_nmagic_all_mp[i] = len(np.where(natoms_mp%v!=0)[0])\n",
    "    n_nmagic_all_3dcd[i] = len(np.where(natoms_exp%v!=0)[0])"
   ]
  },
  {
   "cell_type": "code",
   "execution_count": null,
   "id": "aa57df1a",
   "metadata": {},
   "outputs": [],
   "source": [
    "from spglib import find_primitive"
   ]
  },
  {
   "cell_type": "code",
   "execution_count": null,
   "id": "70923f39",
   "metadata": {},
   "outputs": [],
   "source": [
    "tols = np.array(list(sorted([*np.logspace(-8, 0, 9), 0.2, 0.5, 0.8])))\n",
    "save_period = 1000\n",
    "tols"
   ]
  },
  {
   "cell_type": "code",
   "execution_count": null,
   "id": "9c5bf48d",
   "metadata": {},
   "outputs": [],
   "source": [
    "if os.path.exists('mp_symms.npy'):\n",
    "    mp_symm = np.array(np.load('mp_symms.npy'), dtype=float)\n",
    "    mp_symm[mp_symm<0]=np.nan\n",
    "else:\n",
    "    mp_symm = np.zeros((len(tols), len(mp_frames)), dtype=float)\n",
    "    \n",
    "for next_tol in np.where(np.nanmin(mp_symm, axis=1)==0)[0]:\n",
    "    if mp_symm[next_tol][0]!=0.0:\n",
    "        print(len(np.where(mp_symm[next_tol]==0)[0]))\n",
    "        i = np.where(mp_symm[next_tol]==0)[0][0]\n",
    "        mp_symm[next_tol][i] = np.nan\n",
    "        np.save('mp_symms.npy', mp_symm)\n",
    "        save_period = 1\n",
    "    print(tols, tols[next_tol], save_period)\n",
    "\n",
    "    for i, cell in enumerate(tqdm(mp_frames)):\n",
    "        if mp_symm[next_tol][i] == 0:\n",
    "            prim = find_primitive((cell.get_cell(), \n",
    "                                   cell.get_scaled_positions(), \n",
    "                                   cell.get_atomic_numbers()), \n",
    "                                  symprec=tols[next_tol])\n",
    "            mp_symm[next_tol][i] = len(prim[2]) if prim is not None else np.nan\n",
    "            if i%save_period==0:\n",
    "                np.save('mp_symms.npy', mp_symm)\n",
    "            if save_period==1 and i%1000==0:\n",
    "                save_period=1000"
   ]
  },
  {
   "cell_type": "code",
   "execution_count": null,
   "id": "4ed8752d",
   "metadata": {},
   "outputs": [],
   "source": [
    "if os.path.exists('exp_symms.npy'):\n",
    "    exp_symm = np.array(np.load('exp_symms.npy'), dtype=float)\n",
    "    exp_symm[exp_symm<0]=np.nan\n",
    "else:\n",
    "    exp_symm = np.zeros((len(tols), len(exp_frames)), dtype=float)\n",
    "    \n",
    "for next_tol in np.where(np.nanmin(exp_symm, axis=1)==0)[0]:\n",
    "    if exp_symm[next_tol][0]!=0.0:\n",
    "        print(len(np.where(exp_symm[next_tol]==0)[0]))\n",
    "        i = np.where(exp_symm[next_tol]==0)[0][0]\n",
    "        exp_symm[next_tol][i] = np.nan\n",
    "        np.save('exp_symms.npy', exp_symm)\n",
    "        save_period = 1\n",
    "    print(tols, tols[next_tol])\n",
    "\n",
    "    for i, cell in enumerate(tqdm(exp_frames)):\n",
    "        if exp_symm[next_tol][i] == 0:\n",
    "            prim = find_primitive((cell.get_cell(), cell.get_scaled_positions(), cell.get_atomic_numbers()), symprec=tols[next_tol])\n",
    "            exp_symm[next_tol][i] = len(prim[2]) if prim is not None else np.nan\n",
    "            if i%save_period==0:\n",
    "                np.save('exp_symms.npy', exp_symm)\n",
    "            if save_period==1 and i%1000==0:\n",
    "                save_period=1000"
   ]
  },
  {
   "cell_type": "code",
   "execution_count": null,
   "id": "56757a64",
   "metadata": {},
   "outputs": [],
   "source": [
    "perc_flip_mp = [1 - len(np.where(mp_symm[i]%4==0)[0])/len(np.where(natoms_mp%4==0)[0]) if min(mp_symm[i])>0 else np.nan for i in range(len(tols))]\n",
    "perc_flip_exp = [1 - len(np.where(exp_symm[i]%4==0)[0])/len(np.where(natoms_exp%4==0)[0]) if min(exp_symm[i])>0 else np.nan for i in range(len(tols))]"
   ]
  },
  {
   "cell_type": "code",
   "execution_count": null,
   "id": "bae0b838",
   "metadata": {},
   "outputs": [],
   "source": [
    "fig, ax_symm = plt.subplots(1, 1, \n",
    "                                       figsize=(6, 4), \n",
    "                                       sharey=True,)\n",
    "\n",
    "mp_color = 'black'\n",
    "exp_color = 'green'\n",
    "\n",
    "ax_symm.semilogx(tols, \n",
    "                 perc_flip_mp,\n",
    "                 marker='o',\n",
    "                 label='MP',\n",
    "                 color=mp_color,\n",
    "          )\n",
    "\n",
    "ax_symm.semilogx(tols, \n",
    "                 perc_flip_exp,\n",
    "                 marker='o',\n",
    "                 label='MC3D',\n",
    "                 color=exp_color,\n",
    "          )\n",
    "\n",
    "\n",
    "ax_symm.legend()\n",
    "ax_symm.set_xlabel(r\"Symmetry Tolerance [$\\AA$]\")\n",
    "ax_symm.set_ylabel(r\"% magic $\\to$ non-magic\")\n",
    "ax_symm.set_xticks(tols)\n",
    "\n",
    "plt.savefig('perc_flip_symm_flip.png', bbox_inches='tight')\n",
    "plt.show()"
   ]
  },
  {
   "cell_type": "code",
   "execution_count": null,
   "id": "18d07a7f",
   "metadata": {},
   "outputs": [],
   "source": [
    "n_flip_mp = [len(np.where(mp_symm[i]%4==0)[0])/len(mp_symm[0]) if min(mp_symm[i])>0 else np.nan for i in range(len(tols))]\n",
    "n_flip_exp = [len(np.where(exp_symm[i]%4==0)[0])/len(exp_symm[0]) if min(exp_symm[i])>0 else np.nan for i in range(len(tols))]"
   ]
  },
  {
   "cell_type": "code",
   "execution_count": null,
   "id": "793751a7",
   "metadata": {},
   "outputs": [],
   "source": [
    "fig, ax_symm = plt.subplots(1, 1, \n",
    "                                       figsize=(6, 4), \n",
    "                                       sharey=True,)\n",
    "\n",
    "mp_color = 'black'\n",
    "exp_color = 'green'\n",
    "\n",
    "ax_symm.semilogx(tols, \n",
    "                 n_flip_mp,\n",
    "                 marker='o',\n",
    "                 label='MP',\n",
    "                 color=mp_color,\n",
    "          )\n",
    "\n",
    "ax_symm.semilogx(tols, \n",
    "                 n_flip_exp,\n",
    "                 marker='o',\n",
    "                 label='MC3D',\n",
    "                 color=exp_color,\n",
    "          )\n",
    "\n",
    "\n",
    "ax_symm.legend()\n",
    "ax_symm.set_xlabel(r\"Symmetry Tolerance [$\\AA$]\")\n",
    "ax_symm.set_ylabel(r\"% magic\")\n",
    "ax_symm.set_xticks(tols)\n",
    "\n",
    "plt.savefig('n_flip_symm_flip.png', bbox_inches='tight')\n",
    "plt.show()"
   ]
  },
  {
   "cell_type": "code",
   "execution_count": null,
   "id": "91a04296",
   "metadata": {},
   "outputs": [],
   "source": []
  }
 ],
 "metadata": {
  "kernelspec": {
   "display_name": "Python 3",
   "language": "python",
   "name": "python3"
  },
  "language_info": {
   "codemirror_mode": {
    "name": "ipython",
    "version": 3
   },
   "file_extension": ".py",
   "mimetype": "text/x-python",
   "name": "python",
   "nbconvert_exporter": "python",
   "pygments_lexer": "ipython3",
   "version": "3.8.8"
  }
 },
 "nbformat": 4,
 "nbformat_minor": 5
}
