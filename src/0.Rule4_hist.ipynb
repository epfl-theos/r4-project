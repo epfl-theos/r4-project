{
 "cells": [
  {
   "cell_type": "code",
   "execution_count": null,
   "id": "45481b1d",
   "metadata": {},
   "outputs": [],
   "source": [
    "from data import DATA_3DCD, DATA_MP"
   ]
  },
  {
   "cell_type": "code",
   "execution_count": null,
   "id": "39ff03f3",
   "metadata": {},
   "outputs": [],
   "source": [
    "%run ./modules.ipynb"
   ]
  },
  {
   "cell_type": "code",
   "execution_count": null,
   "id": "8cdae082",
   "metadata": {},
   "outputs": [],
   "source": [
    "mp_frames = ase.io.read(DATA_MP.structures, index=\":\")\n",
    "exp_frames = ase.io.read(DATA_3DCD.structures, index=\":\")"
   ]
  },
  {
   "cell_type": "code",
   "execution_count": null,
   "id": "67dd2e27",
   "metadata": {},
   "outputs": [],
   "source": [
    "len(mp_frames), len(exp_frames)"
   ]
  },
  {
   "cell_type": "code",
   "execution_count": null,
   "id": "c7b2d3f6",
   "metadata": {},
   "outputs": [],
   "source": [
    "natoms_mp = np.zeros(len(mp_frames))\n",
    "natoms_exp = np.zeros(len(exp_frames))\n",
    "\n",
    "for i, frame in enumerate(tqdm(mp_frames)):\n",
    "    frame.wrap(eps=1e-10)\n",
    "    natoms_mp[i] = len(frame)\n",
    "\n",
    "for i, frame in enumerate(tqdm(exp_frames)):\n",
    "    frame.wrap(eps=1e-10)\n",
    "    natoms_exp[i] = len(frame)"
   ]
  },
  {
   "cell_type": "code",
   "execution_count": null,
   "id": "beaf90ce",
   "metadata": {},
   "outputs": [],
   "source": [
    "natoms_mp.max()"
   ]
  },
  {
   "cell_type": "code",
   "execution_count": null,
   "id": "7e259174",
   "metadata": {},
   "outputs": [],
   "source": [
    "sns.set(style=\"white\", palette=\"muted\", color_codes=True)\n",
    "\n",
    "fig, (ax1, ax2) = plt.subplots(1, 2, figsize=(11, 6))\n",
    "sns.histplot(ax=ax2, data=natoms_mp, stat=\"probability\", bins=int(natoms_mp.max()))\n",
    "sns.histplot(ax=ax1, data=natoms_exp, stat=\"probability\", bins=int(natoms_exp.max()))\n",
    "sns.despine(left=True, bottom=True)\n",
    "ax1.set_xlim(0, 100)\n",
    "ax2.set_ylabel(None)\n",
    "ax2.set_xlim(0, 100)\n",
    "ax1.set_xlabel(r\"$N_{atoms, cell}$\")\n",
    "ax2.set_xlabel(r\"$N_{atoms, cell}$\")"
   ]
  },
  {
   "cell_type": "markdown",
   "id": "2c2359ad",
   "metadata": {},
   "source": [
    "Calculating the Jensen-Shannon divergence to quanitfy the Rule of Four (link that explains differences between KL and JS divergences: https://yongchaohuang.github.io/2020-07-08-kl-divergence/)."
   ]
  },
  {
   "cell_type": "code",
   "execution_count": null,
   "id": "a6054685-af95-4f50-acb0-f6d5a79d55e1",
   "metadata": {},
   "outputs": [],
   "source": [
    "from scipy.spatial import distance\n",
    "\n",
    "p = sns.histplot(\n",
    "    data=natoms_exp, stat=\"probability\", bins=int(natoms_exp.max()), kde=True\n",
    ")\n",
    "kdeline = p.lines[0]"
   ]
  },
  {
   "cell_type": "code",
   "execution_count": null,
   "id": "03ec7b45-d7f3-4dbf-8f87-feddec77c8fb",
   "metadata": {},
   "outputs": [],
   "source": [
    "kdeline.get_data()"
   ]
  },
  {
   "cell_type": "code",
   "execution_count": null,
   "id": "24c6ff4b-abd1-452e-b4cc-1b4df5665309",
   "metadata": {},
   "outputs": [],
   "source": [
    "xs = kdeline.get_xdata()\n",
    "ys = kdeline.get_ydata()\n",
    "sns.despine(left=True, bottom=True)\n",
    "# plt.xlim(0, 200)\n",
    "plt.show()\n",
    "print(\"xs\", xs.shape, \"ys\", ys.shape)\n",
    "r_h_magic = np.asarray([h.get_height() for h in p.patches][0:-1][3::4])\n",
    "n_h_magic = ys[0:-1][3::4]\n",
    "print(len(r_h_magic), len(n_h_magic))\n",
    "assert len(r_h_magic) == len(n_h_magic)\n",
    "\n",
    "js_magic = distance.jensenshannon(r_h_magic, n_h_magic)\n",
    "print(\n",
    "    \"The JS divergence between the histogram and its smooth counterpart for the 3DCD data set is equivalent to \",\n",
    "    js_magic,\n",
    ")\n",
    "\n",
    "p = sns.histplot(\n",
    "    data=natoms_mp, stat=\"probability\", bins=int(natoms_mp.max()), kde=True\n",
    ")\n",
    "kdeline = p.lines[0]\n",
    "xs = kdeline.get_xdata()\n",
    "ys = kdeline.get_ydata()\n",
    "sns.despine(left=True, bottom=True)\n",
    "plt.xlim(0, 100)\n",
    "plt.show()\n",
    "r_h_magic = np.asarray([h.get_height() for h in p.patches][0:-1][3::4])\n",
    "n_h_magic = ys[0:-1][3::4]\n",
    "len(r_h_magic), len(n_h_magic)\n",
    "\n",
    "js_magic = distance.jensenshannon(r_h_magic, n_h_magic)\n",
    "print(\n",
    "    \"The JS divergence between the histogram and its smooth counterpart for the MP data set is equivalent to \",\n",
    "    js_magic,\n",
    ")"
   ]
  },
  {
   "cell_type": "code",
   "execution_count": null,
   "id": "ea05a714-fc49-4441-b373-7f8343b3add7",
   "metadata": {},
   "outputs": [],
   "source": [
    "from sklearn.neighbors import KernelDensity\n",
    "\n",
    "print(natoms_exp.shape)\n",
    "X = np.array((np.arange(len(natoms_exp)), natoms_exp)).transpose()\n",
    "kde = KernelDensity(kernel=\"gaussian\", bandwidth=0.2).fit(X)\n",
    "y = kde.score_samples(X)\n",
    "print(y.shape)\n",
    "plt.plot(X.T[0].T[::100], y[::100])"
   ]
  },
  {
   "cell_type": "code",
   "execution_count": null,
   "id": "669ef684-7891-44fe-a607-893d2246c6a7",
   "metadata": {},
   "outputs": [],
   "source": [
    "plt.plot(X.T[0], X.T[1])"
   ]
  },
  {
   "cell_type": "code",
   "execution_count": null,
   "id": "81b087ef-8180-4375-b1d5-d3ea5869cb57",
   "metadata": {},
   "outputs": [],
   "source": [
    "np.array((np.arange(len(natoms_exp)), natoms_exp)).transpose()"
   ]
  },
  {
   "cell_type": "code",
   "execution_count": null,
   "id": "d7bbc814-8a70-4230-a522-1504d3020cd8",
   "metadata": {},
   "outputs": [],
   "source": [
    "np.histogram(np.sort(natoms_exp), bins=len(set(natoms_exp)))"
   ]
  },
  {
   "cell_type": "code",
   "execution_count": null,
   "id": "f832e342-eb7b-4a92-8f22-c1753c6fcb13",
   "metadata": {},
   "outputs": [],
   "source": [
    "hist = np.histogram(np.sort(natoms_exp), bins=int(natoms_exp.max()))\n",
    "X = np.array((hist[1][:-1], hist[0])).T"
   ]
  },
  {
   "cell_type": "code",
   "execution_count": null,
   "id": "c9b072ce-0faf-433b-843b-3ff7ec9bde81",
   "metadata": {},
   "outputs": [],
   "source": [
    "plt.bar(hist[1][:-1], hist[0])\n",
    "plt.xlim(0, 100)"
   ]
  },
  {
   "cell_type": "code",
   "execution_count": null,
   "id": "7e27c354-5516-4111-b852-354f214dc8f4",
   "metadata": {},
   "outputs": [],
   "source": [
    "print(natoms_exp.shape)\n",
    "kde = KernelDensity(kernel=\"gaussian\").fit(np.sort(natoms_exp))\n",
    "y = kde.score_samples(X)\n",
    "print(y.shape)"
   ]
  },
  {
   "cell_type": "code",
   "execution_count": null,
   "id": "7b32a42c-b118-4776-bbf6-95fa30ac7b9c",
   "metadata": {},
   "outputs": [],
   "source": [
    "plt.plot(X.T[0], y)"
   ]
  },
  {
   "cell_type": "code",
   "execution_count": null,
   "id": "5acb3c2f-9e6e-4ea7-9d5f-5f2f589e4b4b",
   "metadata": {},
   "outputs": [],
   "source": [
    "hist[1].shape"
   ]
  },
  {
   "cell_type": "code",
   "execution_count": null,
   "id": "143127b9-1122-4e2c-adab-ceec876f5acb",
   "metadata": {},
   "outputs": [],
   "source": [
    "hist[1][-1]"
   ]
  },
  {
   "cell_type": "code",
   "execution_count": null,
   "id": "b55ecdfb-75ce-465a-9503-07c422563604",
   "metadata": {},
   "outputs": [],
   "source": [
    "hist[1][0]"
   ]
  },
  {
   "cell_type": "code",
   "execution_count": null,
   "id": "3ecb2654-5105-4667-97fb-8dc38fe6fb0d",
   "metadata": {},
   "outputs": [],
   "source": [
    "list(range(1, 10))"
   ]
  },
  {
   "cell_type": "code",
   "execution_count": null,
   "id": "c034c8bd-e569-49fb-9a43-40ad56bbe8aa",
   "metadata": {},
   "outputs": [],
   "source": [
    "len(list(range(1, 10)))"
   ]
  },
  {
   "cell_type": "code",
   "execution_count": null,
   "id": "3de38ef9-1a9f-4a76-a9b7-373efd16fde9",
   "metadata": {},
   "outputs": [],
   "source": []
  },
  {
   "cell_type": "code",
   "execution_count": null,
   "id": "5f9a5a64-3044-4c2c-b60a-6a42e71a22dc",
   "metadata": {},
   "outputs": [],
   "source": []
  }
 ],
 "metadata": {
  "kernelspec": {
   "display_name": "Python 3",
   "language": "python",
   "name": "python3"
  },
  "language_info": {
   "codemirror_mode": {
    "name": "ipython",
    "version": 3
   },
   "file_extension": ".py",
   "mimetype": "text/x-python",
   "name": "python",
   "nbconvert_exporter": "python",
   "pygments_lexer": "ipython3",
   "version": "3.7.10"
  }
 },
 "nbformat": 4,
 "nbformat_minor": 5
}
