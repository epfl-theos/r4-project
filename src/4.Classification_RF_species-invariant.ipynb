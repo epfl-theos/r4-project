{
 "cells": [
  {
   "cell_type": "markdown",
   "id": "67d4f8a0",
   "metadata": {},
   "source": [
    "These produce a final .json file that can be used as an input in chemiscope to produce the final figures of the manuscript. \n",
    "The file can be already found in the downloaded folder.\n",
    "However, if you want to run the notebook yourself, a new chemiscope file will be generated, along with new pcovr figures. "
   ]
  },
  {
   "cell_type": "code",
   "execution_count": null,
   "id": "3d25d139",
   "metadata": {},
   "outputs": [],
   "source": [
    "from data import DATA_3DCD, DATA_MP\n",
    "import pickle\n",
    "from IPython.display import clear_output\n",
    "from sklearn.model_selection import learning_curve"
   ]
  },
  {
   "cell_type": "code",
   "execution_count": null,
   "id": "720f77db",
   "metadata": {},
   "outputs": [],
   "source": [
    "%run ./modules.ipynb\n",
    "\n",
    "sns.set(style=\"white\", palette=\"muted\", color_codes=True)\n",
    "my_c = colors.ListedColormap([\"mediumblue\", \"red\"])\n",
    "c = [\"mediumblue\", \"red\"]\n",
    "sns.set_palette(sns.color_palette(c))\n",
    "\n",
    "n_PC = 5  # number of principal components\n",
    "mixing = 0.5  # beta parameter for pcvor"
   ]
  },
  {
   "cell_type": "markdown",
   "id": "75a4626d",
   "metadata": {},
   "source": [
    "3DCD data analysis"
   ]
  },
  {
   "cell_type": "code",
   "execution_count": null,
   "id": "71d4c4ea",
   "metadata": {},
   "outputs": [],
   "source": [
    "npzfile_3dcd = np.load(DATA_3DCD.soap, allow_pickle=True)\n",
    "my_frames_3dcd = ase.io.read(DATA_3DCD.structures, index=\":\")\n",
    "magic_3dcd = np.array(npzfile_3dcd[\"magic\"], dtype=int).reshape(-1,1)\n",
    "y_magic_3dcd = np.copy(magic_3dcd.reshape(-1, 1).ravel())"
   ]
  },
  {
   "cell_type": "code",
   "execution_count": null,
   "id": "81a78a8a",
   "metadata": {},
   "outputs": [],
   "source": [
    "npzfile_mp = np.load(DATA_MP.soap, allow_pickle=True)\n",
    "my_frames_mp = ase.io.read(DATA_MP.structures, index=\":\")\n",
    "magic_mp = np.array(npzfile_mp[\"magic\"], dtype=int).reshape(-1,1)\n",
    "y_magic_mp = np.copy(magic_mp.reshape(-1, 1).ravel())"
   ]
  },
  {
   "cell_type": "code",
   "execution_count": null,
   "id": "025f37ad",
   "metadata": {},
   "outputs": [],
   "source": [
    "my_frames = np.array([*my_frames_3dcd, *my_frames_mp])\n",
    "my_orig_frames = np.array([*my_frames_3dcd, *my_frames_mp])\n",
    "del my_frames_mp, my_frames_3dcd"
   ]
  },
  {
   "cell_type": "code",
   "execution_count": null,
   "id": "0d243cd9",
   "metadata": {},
   "outputs": [],
   "source": [
    "y_magic = np.hstack((y_magic_3dcd, y_magic_mp))\n",
    "del magic_mp, magic_3dcd, y_magic_3dcd, y_magic_mp"
   ]
  },
  {
   "cell_type": "code",
   "execution_count": null,
   "id": "e3809318",
   "metadata": {},
   "outputs": [],
   "source": [
    "for frame in tqdm(my_frames):\n",
    "    frame.numbers = np.zeros((len(frame)))\n",
    "    frame.pbc = True\n",
    "    frame.wrap(eps=1E-10)"
   ]
  },
  {
   "cell_type": "code",
   "execution_count": null,
   "id": "0ca8f73e",
   "metadata": {},
   "outputs": [],
   "source": [
    "hypers = dict(\n",
    "    soap_type=\"PowerSpectrum\",\n",
    "    max_radial=4,\n",
    "    max_angular=4,\n",
    "    gaussian_sigma_type=\"Constant\",\n",
    "    gaussian_sigma_constant=0.5,\n",
    "    cutoff_smooth_width=0.5,\n",
    "    global_species=[0],\n",
    "    expansion_by_species_method=\"user defined\",\n",
    "    normalize=False,\n",
    ")"
   ]
  },
  {
   "cell_type": "code",
   "execution_count": null,
   "id": "7196edf9",
   "metadata": {},
   "outputs": [],
   "source": [
    "if os.path.exists('train_indices_all.npy'):\n",
    "    i_train, i_test = np.load('train_indices_all.npy'), np.load('test_indices_all.npy')\n",
    "    y_train, y_test = y_magic[i_train], y_magic[i_test]\n",
    "else:\n",
    "    print('generating')\n",
    "    i_train, i_test, y_train, y_test = train_test_split(\n",
    "        np.arange(X.shape[0]), y_magic, train_size=0.9\n",
    "    )\n",
    "    np.save('train_indices_all.npy', i_train)\n",
    "    np.save('test_indices_all.npy', i_test)"
   ]
  },
  {
   "cell_type": "code",
   "execution_count": null,
   "id": "ed72a025",
   "metadata": {},
   "outputs": [],
   "source": [
    "rads = [0.5, 1.0, 1.5, 1.75, *[round(x, 2) for x in np.arange(2.0, 6.0, 0.5)], 8.0]\n",
    "errors = np.zeros(len(rads))\n",
    "FN_test_all = np.zeros(len(rads), dtype=int)\n",
    "FP_test_all = np.zeros(len(rads), dtype=int)\n",
    "TN_test_all = np.zeros(len(rads), dtype=int)\n",
    "TP_test_all = np.zeros(len(rads), dtype=int)\n",
    "\n",
    "for i, r in enumerate(rads):\n",
    "    if not os.path.exists('soaps_{}.npy'.format(r)):\n",
    "        representation=SOAP(interaction_cutoff=r, **hypers)\n",
    "        n_soap = representation.transform(my_frames[0]).get_features(representation).shape[1]\n",
    "\n",
    "        fn = 'soaps_{}.npy'.format(r)\n",
    "        blocks = np.array_split(np.arange(len(my_frames)), 500)\n",
    "        if os.path.exists(fn):\n",
    "            X_raw = np.load(fn)\n",
    "        else:\n",
    "            X_raw = np.zeros((len(my_frames), n_soap))\n",
    "            for b1, block in enumerate(tqdm(blocks)):\n",
    "                frames = my_frames[block]\n",
    "                for frame in frames:\n",
    "                    frame.pbc = True\n",
    "                    frame.wrap(eps=1E-10)\n",
    "                centers = [len(f) for f in frames]\n",
    "                csi_split = [0, *np.cumsum(centers)]\n",
    "                idxi = [range(csi_split[ii], csi_split[ii + 1]) for ii in range(len(block))]\n",
    "\n",
    "                try:\n",
    "                    feats = representation.transform(frames).get_features(representation)\n",
    "                    for ii, idx in zip(block, idxi):\n",
    "                        X_raw[ii] = feats[idx].mean(axis=0)\n",
    "                except RuntimeError:\n",
    "                    for ii, f in zip(block, frames):\n",
    "                        try:\n",
    "                            X_raw[ii] = representation.transform(f).get_features(representation).mean(axis=0)\n",
    "                        except RuntimeError:\n",
    "                            print(\"Problem with\", ii)\n",
    "                        \n",
    "            np.save(fn, X_raw)\n",
    "    X = np.load('soaps_{}.npy'.format(r))\n",
    "    X_train, X_test = X[i_train], X[i_test]\n",
    "    if os.path.exists(\"x_scaler_blanked_{}.sav\".format(r)):\n",
    "        x_scaler = pickle.load(open(\"x_scaler_blanked_{}.sav\".format(r), 'rb'))\n",
    "    else:\n",
    "        x_scaler = StandardFlexibleScaler(column_wise=False).fit(X)\n",
    "        pickle.dump(x_scaler, open(\"x_scaler_blanked_{}.sav\".format(r), \"wb\"))\n",
    "\n",
    "    X = x_scaler.transform(X)\n",
    "    X_train = x_scaler.transform(X_train)\n",
    "    X_test = x_scaler.transform(X_test)\n",
    "    \n",
    "    if os.path.exists('random_forest_all_blanked_{}.sav'.format(r)):\n",
    "        clf = pickle.load(open('random_forest_all_blanked_{}.sav'.format(r), 'rb'))\n",
    "    else:\n",
    "        clf = RandomForestClassifier(verbose=2, n_estimators=100, random_state=2, n_jobs=4)\n",
    "        clf.fit(X_train, y_train.ravel())\n",
    "        pickle.dump(clf, open('random_forest_all_blanked_{}.sav'.format(r), 'wb'))\n",
    "    errors[i] = clf.score(X_test, y_test.ravel())\n",
    "    prob = clf.predict_proba(X)\n",
    "    TP_test_all[i] = len(np.where(np.logical_and(y_test==1, prob[i_test][:, 1] > 0.5))[0])\n",
    "    TN_test_all[i] = len(np.where(np.logical_and(y_test==0, prob[i_test][:, 0] > 0.5))[0])\n",
    "    FP_test_all[i] = len(np.where(np.logical_and(y_test==0, prob[i_test][:, 1] > 0.5))[0])\n",
    "    FN_test_all[i] = len(np.where(np.logical_and(y_test==1, prob[i_test][:, 0] > 0.5))[0])\n",
    "    clear_output()\n",
    "plt.plot(rads, errors, marker='o')"
   ]
  },
  {
   "cell_type": "code",
   "execution_count": null,
   "id": "1554e75f",
   "metadata": {},
   "outputs": [],
   "source": [
    "from sklearn.decomposition import PCA\n",
    "\n",
    "r = 4.0\n",
    "X_raw = np.load('soaps_{}.npy'.format(r))\n",
    "X_train, X_test = X[i_train], X_raw[i_test]\n",
    "x_scaler = pickle.load(open(\"x_scaler_blanked_{}.sav\".format(r), 'rb'))\n",
    "X = x_scaler.transform(X_raw)\n",
    "X_train = x_scaler.transform(X_train)\n",
    "X_test = x_scaler.transform(X_test)\n",
    "clf = pickle.load(open('random_forest_all_blanked_{}.sav'.format(r), 'rb'))\n",
    "\n",
    "TP_test = np.where(np.logical_and(y_test==1, prob[i_test][:, 1] > 0.5))[0]\n",
    "TN_test = np.where(np.logical_and(y_test==0, prob[i_test][:, 0] > 0.5))[0]\n",
    "FP_test = np.where(np.logical_and(y_test==0, prob[i_test][:, 1] > 0.5))[0]\n",
    "FN_test = np.where(np.logical_and(y_test==1, prob[i_test][:, 0] > 0.5))[0]"
   ]
  },
  {
   "cell_type": "code",
   "execution_count": null,
   "id": "dc40408e",
   "metadata": {},
   "outputs": [],
   "source": [
    "print(\"Accuracy on test set:\" + str(clf.score(X_test, y_test.ravel())))"
   ]
  },
  {
   "cell_type": "code",
   "execution_count": null,
   "id": "6e38b04b",
   "metadata": {},
   "outputs": [],
   "source": [
    "if not os.path.exists('lc_{}.npz'.format(r)):\n",
    "    temp_rf = RandomForestClassifier(verbose=False, n_estimators=100, random_state=2, n_jobs=4)\n",
    "    lc = learning_curve(temp_rf, X, y_magic, verbose=2, \n",
    "                        train_sizes=np.array(X.shape[0] * np.logspace(-3, np.log10(0.8), 30), dtype=int), \n",
    "                        cv=5)\n",
    "    np.savez('lc_{}.npz'.format(r), n=lc[0], train=lc[1], test=lc[2])\n",
    "\n",
    "lc = np.load('lc_{}.npz'.format(r))\n",
    "n = lc['n']\n",
    "train_errors = lc['train']\n",
    "test_errors = lc['test']\n",
    "\n",
    "error = 1.0 - test_errors\n",
    "plt.loglog(n, np.mean(error, axis=1), marker='o', color='k')\n",
    "\n",
    "for a in [1,2]:\n",
    "    plt.fill_between(n, \n",
    "                     np.mean(error, axis=1) - a*np.std(error, axis=1),\n",
    "                     np.mean(error, axis=1) + a*np.std(error, axis=1),\n",
    "                     alpha=0.2,\n",
    "                     color='r'\n",
    "                    )"
   ]
  },
  {
   "cell_type": "code",
   "execution_count": null,
   "id": "7de6de02",
   "metadata": {},
   "outputs": [],
   "source": [
    "prob = clf.predict_proba(X)"
   ]
  },
  {
   "cell_type": "code",
   "execution_count": null,
   "id": "308a76ef",
   "metadata": {},
   "outputs": [],
   "source": [
    "from mpl_toolkits.axes_grid1.inset_locator import inset_axes\n",
    "fig, axes = plt.subplots(2, 1, figsize=(6, 6), gridspec_kw=dict(height_ratios=(2,1)))\n",
    "\n",
    "ax_rad = axes[0]\n",
    "ax_tab = axes[1]\n",
    "ax_lc = inset_axes(ax_rad, width='40%', height='40%', loc='center right', borderpad=3)\n",
    "\n",
    "ax_rad.plot(rads, errors, marker='o')\n",
    "\n",
    "sub_rads = [1, 2, 3, 4, 5, 8]\n",
    "sub_i = np.array([i for i, r in enumerate(rads) if r in sub_rads])\n",
    "tab = ax_tab.table([np.array(rads)[sub_i], TP_test_all[sub_i], TN_test_all[sub_i], FP_test_all[sub_i], FN_test_all[sub_i]], \n",
    "            rowLabels=[r'Radius [$\\AA$]','TP', 'TN','FP','FN'], \n",
    "            cellLoc='center',\n",
    "            rowLoc='center',\n",
    "            bbox=(0.0,0,1,1), loc='center right')\n",
    "ax_rad.set_xlabel(\"Radius [$\\AA$]\")\n",
    "ax_rad.set_ylabel(\"R$^2$\")\n",
    "ax_rad.set_title(\"Classification Accuracy with Increasing $r_\\mathrm{cut}$\")\n",
    "ax_tab.axis('off')\n",
    "\n",
    "error = 1.0 - test_errors\n",
    "ax_lc.errorbar(n, np.mean(error, axis=1), np.std(error, axis=1), marker='.', capsize=2, color='k')\n",
    "ax_lc.set_xscale('log')\n",
    "\n",
    "ax_lc.set_ylabel(r'1-R$^2$')\n",
    "ax_lc.set_xlabel(r'$n_\\mathrm{train}$')\n",
    "ax_lc.set_title(\"Learning Curve for $r_\\mathrm{cut} = 4.0\\AA$\")\n",
    "fig.subplots_adjust(hspace=0.5)\n",
    "\n",
    "fig.tight_layout()\n",
    "plt.savefig(\"random_forest.pdf\")"
   ]
  },
  {
   "cell_type": "code",
   "execution_count": null,
   "id": "01a5ba0f",
   "metadata": {},
   "outputs": [],
   "source": []
  }
 ],
 "metadata": {
  "kernelspec": {
   "display_name": "Python 3",
   "language": "python",
   "name": "python3"
  },
  "language_info": {
   "codemirror_mode": {
    "name": "ipython",
    "version": 3
   },
   "file_extension": ".py",
   "mimetype": "text/x-python",
   "name": "python",
   "nbconvert_exporter": "python",
   "pygments_lexer": "ipython3",
   "version": "3.8.8"
  }
 },
 "nbformat": 4,
 "nbformat_minor": 5
}
