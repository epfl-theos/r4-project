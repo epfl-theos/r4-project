{
 "cells": [
  {
   "cell_type": "code",
   "execution_count": 7,
   "id": "6d9dd8d6",
   "metadata": {},
   "outputs": [
    {
     "data": {
      "text/plain": [
       "'Importing the dataset from matminer only once'"
      ]
     },
     "execution_count": 7,
     "metadata": {},
     "output_type": "execute_result"
    }
   ],
   "source": [
    "%run ../modules.ipynb\n",
    "\"\"\"Importing the dataset from matminer only once\"\"\"\n",
    "# from matminer.datasets import load_dataset\n",
    "# df = load_dataset(\"mp_all_20181018\")\n",
    "# compression_opts = dict(method='zip',archive_name='MP_complete.csv')  \n",
    "# df.to_csv('MP_complete.zip', index=False,compression=compression_opts)  "
   ]
  },
  {
   "cell_type": "code",
   "execution_count": 2,
   "id": "267f44c0",
   "metadata": {},
   "outputs": [],
   "source": [
    "\"\"\"The file has been created in zip format, reading it\"\"\"\n",
    "zf = zipfile.ZipFile('./MP_complete.zip') \n",
    "df_csv = pd.read_csv(zf.open('MP_complete.csv'))"
   ]
  },
  {
   "cell_type": "code",
   "execution_count": 3,
   "id": "a2057d63",
   "metadata": {},
   "outputs": [
    {
     "data": {
      "text/plain": [
       "(83989, 83989, 83989)"
      ]
     },
     "execution_count": 3,
     "metadata": {},
     "output_type": "execute_result"
    }
   ],
   "source": [
    "frames_init_tot=ase.io.read('MP_complete_init.xyz', index=':')\n",
    "frames_relax_tot=ase.io.read('MP_complete_relax.xyz', index=':')\n",
    "\n",
    "natoms_list_tot=[]\n",
    "for i in range(len(df_csv)):\n",
    "    natoms_list_tot.append(natoms(df_csv['structure'][i]))\n",
    "\n",
    "len(frames_init_tot), len(frames_relax_tot), len(natoms_list_tot)"
   ]
  },
  {
   "cell_type": "code",
   "execution_count": 4,
   "id": "567d31a1",
   "metadata": {},
   "outputs": [
    {
     "data": {
      "text/plain": [
       "(80000, 80000, 80000)"
      ]
     },
     "execution_count": 4,
     "metadata": {},
     "output_type": "execute_result"
    }
   ],
   "source": [
    "select=80000\n",
    "frames_init, frames_relax, natoms_list = zip(*random.sample(list(zip(frames_init_tot, frames_relax_tot, natoms_list_tot)), select))\n",
    "len(frames_init), len(frames_relax), len(natoms_list)\n"
   ]
  },
  {
   "cell_type": "code",
   "execution_count": 5,
   "id": "77c79491",
   "metadata": {},
   "outputs": [],
   "source": [
    "pg_list_order=['1', '1_','2','m','2/m', \n",
    "               'mm2','222',  'mmm',\n",
    "               '4', '4_',  '4_2m','4mm', '422', '4/m','4/mmm',\n",
    "               '3', '3m', '3_','32', '3_m','6', '6_',\n",
    "                '6_m2',  '6/m','622','6mm',  '6/mmm', \n",
    "                '23',   '4_3m', '432', 'm_3', 'm3_m']\n",
    "\n",
    "# prec=[0.01, 0.1]\n",
    "# angl=[5, 10]\n",
    "\n",
    "prec=[0.01]\n",
    "angl=[5]\n"
   ]
  },
  {
   "cell_type": "code",
   "execution_count": 8,
   "id": "ee1b4e70",
   "metadata": {},
   "outputs": [
    {
     "name": "stdout",
     "output_type": "stream",
     "text": [
      "80000 80000 80000\n"
     ]
    },
    {
     "data": {
      "image/png": "[encoded data removed]",
      "text/plain": [
       "<Figure size 648x576 with 1 Axes>"
      ]
     },
     "metadata": {},
     "output_type": "display_data"
    },
    {
     "name": "stdout",
     "output_type": "stream",
     "text": [
      "number of failures is  0\n"
     ]
    }
   ],
   "source": [
    "for j in prec:\n",
    "    for k in angl:\n",
    "        error=0\n",
    "        point_group_list=[]\n",
    "        magic=np.zeros(len(frames_init))\n",
    "        n_atoms=[]\n",
    "        for frame,i in zip(frames_init, range(len(frames_init))):\n",
    "            natom=len(frame)\n",
    "            if natom %4==0:\n",
    "                magic[i]=1\n",
    "            n_atoms.append(natom)\n",
    "            py=get_pymatgen(frame)\n",
    "            try:\n",
    "                new=SA(py, symprec=j, angle_tolerance=k).find_primitive()\n",
    "                sg=SA(py, symprec=j, angle_tolerance=k).get_space_group_number()\n",
    "            except:\n",
    "                error+=1\n",
    "                pass\n",
    "            \n",
    "            sp_group=point_group(sg)\n",
    "            point_group_list.append(pg)\n",
    "            \n",
    "        print(len(point_group_list), len(magic), len(n_atoms))\n",
    "            \n",
    "        dict={'point_group':point_group_list,'natom': n_atoms, 'magic':magic} \n",
    "        df= pd.DataFrame(dict)\n",
    "\n",
    "        m=df.loc[df['magic'] == 1]\n",
    "        m=m.drop(['natom', 'magic'], axis=1)\n",
    "        nm=df.loc[df['magic'] == 0]\n",
    "        nm=nm.drop(['natom', 'magic'], axis=1)\n",
    "\n",
    "        inh_symm_m=inh_symm(m['point_group'])\n",
    "        inh_symm_whole=inh_symm(df['point_group'])\n",
    "        inh_symm_nm=inh_symm(nm['point_group'])\n",
    "\n",
    "        inh_symm_m=inh_symm_m.reindex(pg_list_order)\n",
    "        inh_symm_nm=inh_symm_nm.reindex(pg_list_order)\n",
    "        inh_symm_whole=inh_symm_whole.reindex(pg_list_order)\n",
    "\n",
    "        inh_symm_m=inh_symm_m/inh_symm_m['1']\n",
    "        inh_symm_nm=inh_symm_nm/inh_symm_nm['1']\n",
    "\n",
    "        sns.set(style=\"white\", palette=\"bright\", color_codes=True)\n",
    "        f, ax = plt.subplots(figsize=(9, 8))\n",
    "        sns.despine(left=True, bottom=True)\n",
    "        inh_symm_m.plot(kind='barh', title='Inherited symmetry', color='orange', label='magic')\n",
    "        inh_symm_nm.plot(kind='barh', color='b', alpha=0.3, label='non magic')\n",
    "        plt.legend()\n",
    "        plt.title(\"sym_prec = \"+str(j)+\", angle_prec = \"+str(k))\n",
    "        plt.show()\n",
    "        plt.close()\n",
    "        \n",
    "        print(\"number of failures is \", error)"
   ]
  },
  {
   "cell_type": "code",
   "execution_count": null,
   "id": "4ad869f1",
   "metadata": {},
   "outputs": [],
   "source": [
    "dict={'point_group':point_group_list,'natom': n_atoms, 'magic':magic} \n",
    "df= pd.DataFrame(dict)\n",
    "print((df['point_group'].unique()))\n",
    "m=df.loc[df['magic'] == 1]\n",
    "m=m.drop(['natom', 'magic'], axis=1)\n",
    "nm=df.loc[df['magic'] == 0]\n",
    "print((nm['point_group'].unique()))\n",
    "nm=nm.drop(['natom', 'magic'], axis=1)\n",
    "plt.style.use('seaborn')\n",
    "f, ax = plt.subplots(figsize=(9, 8))\n",
    "sns.despine(left=True, bottom=True)\n",
    "g=sns.histplot(data=df, x='point_group', hue='magic',stat='density', multiple='dodge', shrink=.8)\n",
    "plt.xticks(c='grey', rotation=90)\n",
    "plt.yticks(c='grey')\n",
    "plt.ylabel('Count', c='grey')\n",
    "plt.xlabel('Point group', c='grey')\n",
    "# prec=np.linspace(0.001, 0.1, 20)\n",
    "# angl=np.linspace(0, 5, 20)\n",
    "# prec,angl"
   ]
  },
  {
   "cell_type": "code",
   "execution_count": null,
   "id": "2bfe7bea",
   "metadata": {},
   "outputs": [],
   "source": [
    "\"\"\"Using function in modules.ipynb to produce inherited symmetry - problem with 432 group \"\"\"\n",
    "\n",
    "inh_symm_m=inh_symm(m['point_group'])\n",
    "inh_symm_whole=inh_symm(df['point_group'])\n",
    "inh_symm_nm=inh_symm(nm['point_group'])\n",
    "\n",
    "inh_symm_m=inh_symm_m.reindex(pg_list_order)\n",
    "inh_symm_nm=inh_symm_nm.reindex(pg_list_order)\n",
    "inh_symm_whole=inh_symm_whole.reindex(pg_list_order)\n",
    "\n",
    "# print(inh_symm_whole, inh_symm_m, inh_symm_nm)\n",
    "\n",
    "inh_symm_m=inh_symm_m/inh_symm_m['1']\n",
    "inh_symm_nm=inh_symm_nm/inh_symm_nm['1']\n",
    "\n",
    "sns.set(style=\"white\", palette=\"bright\", color_codes=True)\n",
    "f, ax = plt.subplots(figsize=(9, 8))\n",
    "sns.despine(left=True, bottom=True)\n",
    "inh_symm_m.plot(kind='barh', title='Inherited symmetry', color='orange', label='magic')\n",
    "inh_symm_nm.plot(kind='barh', color='b', alpha=0.3, label='non magic')\n",
    "plt.legend()"
   ]
  },
  {
   "cell_type": "code",
   "execution_count": null,
   "id": "3c16eb91",
   "metadata": {},
   "outputs": [],
   "source": [
    "#structures that change from magic to non magic when ajusting tolerance\n",
    "data=[]\n",
    "for j in prec:\n",
    "    for k in angl:\n",
    "        magic_count=0\n",
    "        change_count=0\n",
    "        error=0\n",
    "        for frame in frames_init:\n",
    "            py=get_pymatgen(frame)\n",
    "            if len(py)%4==0:\n",
    "                magic_count+=1  \n",
    "            try:\n",
    "                new=SA(py, symprec=j, angle_tolerance=k).find_primitive()\n",
    "            except:\n",
    "                error+=1\n",
    "                pass\n",
    "                if (len(new)!=len(py)) and len(new)%4!=0:\n",
    "                    change_count+=1\n",
    "        change_perc=change_count*100/magic_count\n",
    "        error_perc=error*100/magic_count\n",
    "        data.append([j,k,change_perc, error_perc])\n",
    "        print(\"PRIMITIVE: \", str(change_perc), \"+_\",str(error_perc), \n",
    "              \"% of structures change from magic to non magic with symprec = \", str(j), \n",
    "              \"and angle_tol = \", str(k))\n",
    "        \n",
    "        #structures that change from magic to non magic when ajusting tolerance\n",
    "data_conv=[]\n",
    "for j in prec:\n",
    "    for k in angl:\n",
    "        magic_count=0\n",
    "        change_count=0\n",
    "        error=0\n",
    "        for frame in frames_init:\n",
    "            py=get_pymatgen(frame)\n",
    "            if len(py)%4==0:\n",
    "                magic_count+=1  \n",
    "            try:\n",
    "                new=SA(py, symprec=j, angle_tolerance=k).get_conventional_standard_structure(international_monoclinic=True)\n",
    "            except:\n",
    "                error+=1\n",
    "                pass\n",
    "                if (len(new)!=len(py)) and len(new)%4!=0:\n",
    "                    change_count+=1\n",
    "        change_perc=change_count*100/magic_count\n",
    "        error_perc=error*100/magic_count\n",
    "        data_conv.append([j,k,change_perc, error_perc])\n",
    "        print(\"PRIMITIVE: \", str(change_perc), \"+_\",str(error_perc), \n",
    "              \"% of structures change from magic to non magic with symprec = \", str(j), \n",
    "              \"and angle_tol = \", str(k))\n",
    "        \n",
    "data_relax=[]\n",
    "for j in prec:\n",
    "    for k in angl:\n",
    "        magic_count=0\n",
    "        change_count=0\n",
    "        error=0\n",
    "        for frame in frames_relax:\n",
    "            py=get_pymatgen(frame)\n",
    "            if len(py)%4==0:\n",
    "                magic_count+=1  \n",
    "            try:\n",
    "                new=SA(py, symprec=j, angle_tolerance=k).find_primitive()\n",
    "            except:\n",
    "                error+=1\n",
    "                pass\n",
    "                if (len(new)!=len(py)) and len(new)%4!=0:\n",
    "                    change_count+=1\n",
    "        change_perc=change_count*100/magic_count\n",
    "        error_perc=error*100/magic_count\n",
    "        data_relax.append([j,k,change_perc, error_perc])\n",
    "        print(\"PRIMITIVE: \", str(change_perc), \"+_\",str(error_perc), \n",
    "              \"% of structures change from magic to non magic with symprec = \", str(j), \n",
    "              \"and angle_tol = \", str(k))\n",
    "data_relax_conv=[]\n",
    "for j in prec:\n",
    "    for k in angl:\n",
    "        magic_count=0\n",
    "        change_count=0\n",
    "        error=0\n",
    "        for frame in frames_relax:\n",
    "            py=get_pymatgen(frame)\n",
    "            if len(py)%4==0:\n",
    "                magic_count+=1  \n",
    "            try:\n",
    "                new=SA(py, symprec=j, angle_tolerance=k).get_conventional_standard_structure(international_monoclinic=True)\n",
    "            except:\n",
    "                error+=1\n",
    "                pass\n",
    "                if (len(new)!=len(py)) and len(new)%4!=0:\n",
    "                    change_count+=1\n",
    "        change_perc=change_count*100/magic_count\n",
    "        error_perc=error*100/magic_count\n",
    "        data_relax_conv.append([j,k,change_perc, error_perc])\n",
    "        print(\"PRIMITIVE: \", str(change_perc), \"+_\",str(error_perc), \n",
    "              \"% of structures change from magic to non magic with symprec = \", str(j), \n",
    "              \"and angle_tol = \", str(k))\n"
   ]
  },
  {
   "cell_type": "code",
   "execution_count": null,
   "id": "318748e1",
   "metadata": {},
   "outputs": [],
   "source": [
    "data=np.array(data)\n",
    "data_conv=np.array(data_conv)\n",
    "data_relax=np.array(data_relax)\n",
    "data_relax_conv=np.array(data_relax_conv)"
   ]
  },
  {
   "cell_type": "code",
   "execution_count": null,
   "id": "631173af",
   "metadata": {},
   "outputs": [],
   "source": [
    "plt.style.use('fivethirtyeight')\n",
    "\n",
    "ax = plt.figure(figsize=(12,10)).add_subplot(projection='3d')\n",
    "\n",
    "ax.scatter(data[:,0], data[:,1], data[:,2],  \n",
    "        s=200, linewidth=1, label='initial primitive', color='b')\n",
    "\n",
    "ax.scatter(data_conv[:,0], data_conv[:,1], data_conv[:,2],  \n",
    "        s=150, linewidth=1, label='initial conventional', color='r')\n",
    "\n",
    "ax.scatter(data_relax[:,0], data_relax[:,1], data_relax[:,2],  \n",
    "        marker='s',s=100,  linewidth=1, label='relaxed primitive', color='orange')\n",
    "\n",
    "ax.scatter(data_relax_conv[:,0], data_relax_conv[:,1], data_relax_conv[:,2], \n",
    "        s=50, label='relaxed conventional', color='g')\n",
    "\n",
    "ax.set_xlabel(\"Sym prec\", size=20)\n",
    "ax.set_ylabel(\"Angle prec\", size=20)\n",
    "ax.set_zlabel(\"% Lost Magicness\", size=20)\n",
    "ax.set_zlim(0,0.04)\n",
    "ax.legend(fontsize=20)\n",
    "ax.set_title(\"Materials Project: Tuning symmetries' tolerance\", color='grey', size=28)\n"
   ]
  },
  {
   "cell_type": "code",
   "execution_count": null,
   "id": "289ca012",
   "metadata": {},
   "outputs": [],
   "source": [
    "errors=[data[:,3], data_conv[:,3], data_relax[:,3], data_relax_conv[:,3]]\n",
    "errors"
   ]
  },
  {
   "cell_type": "code",
   "execution_count": null,
   "id": "b9ccac00",
   "metadata": {},
   "outputs": [],
   "source": []
  }
 ],
 "metadata": {
  "kernelspec": {
   "display_name": "aiida",
   "language": "python",
   "name": "aiida"
  },
  "language_info": {
   "codemirror_mode": {
    "name": "ipython",
    "version": 3
   },
   "file_extension": ".py",
   "mimetype": "text/x-python",
   "name": "python",
   "nbconvert_exporter": "python",
   "pygments_lexer": "ipython3",
   "version": "3.8.8"
  }
 },
 "nbformat": 4,
 "nbformat_minor": 5
}
