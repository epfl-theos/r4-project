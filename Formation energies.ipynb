{
 "cells": [
  {
   "cell_type": "code",
   "execution_count": 1,
   "id": "familiar-machine",
   "metadata": {},
   "outputs": [],
   "source": [
    "from qmpy import *\n",
    "from django.db.models import Count\n",
    "import seaborn as sns\n",
    "import freud"
   ]
  },
  {
   "cell_type": "code",
   "execution_count": 2,
   "id": "greatest-vietnamese",
   "metadata": {},
   "outputs": [],
   "source": [
    "# fe = Element.objects.get(symbol='Fe')\n",
    "# atom_set.count()\n",
    "a=Entry.objects.values()\n",
    "a.count()\n",
    "a_red=a[0:100]\n",
    "# print(a_red)"
   ]
  },
  {
   "cell_type": "code",
   "execution_count": null,
   "id": "nearby-concrete",
   "metadata": {},
   "outputs": [
    {
     "data": {
      "image/png": "[encoded data removed]",
      "text/plain": [
       "<Figure size 648x576 with 1 Axes>"
      ]
     },
     "metadata": {},
     "output_type": "display_data"
    }
   ],
   "source": [
    "natoms=[]\n",
    "red_db = list(Entry.objects.values('natoms'))[::10]\n",
    "for i in range(len(red_db)):\n",
    "    natoms.append(red_db[i]['natoms'])\n",
    "    \n",
    "E=[]\n",
    "formE = list(Entry.objects.values('formationenergy'))[::10000]\n",
    "for i in range(len(formE)):\n",
    "    E.append(formE[i]['formationenergy'])\n",
    "\n",
    "    \n",
    "\n",
    "sns.set(style=\"white\", palette=\"muted\", color_codes=True)\n",
    "f, ax = plt.subplots(figsize=(9, 8))\n",
    "sns.despine(left=True)\n",
    "sns.histplot(data=natoms, stat=\"probability\", color='b', discrete=True, label='number of atoms')\n",
    "ax.set_xlabel('Atom count')\n",
    "plt.legend()\n",
    "plt.xlim(0,100)\n",
    "# plt.savefig('oqmd_natom_occ.png', bbox_inches='tight', dpi=400)\n",
    "plt.show()\n",
    "plt.close()\n",
    "\n",
    "\n",
    "sns.set(style=\"white\", palette=\"muted\", color_codes=True)\n",
    "f, ax = plt.subplots(figsize=(9, 8))\n",
    "sns.despine(left=True)\n",
    "sns.histplot(data=E, stat=\"probability\", color='r', discrete=True, label='number of atoms')\n",
    "ax.set_xlabel('Atom count')\n",
    "plt.legend()\n",
    "plt.xlim(0,100)\n",
    "# plt.savefig('oqmd_natom_occ.png', bbox_inches='tight', dpi=400)\n",
    "plt.show()\n",
    "plt.close()\n",
    "\n",
    "# stat{“count”, “frequency”, “density”, “probability”}"
   ]
  },
  {
   "cell_type": "code",
   "execution_count": 6,
   "id": "appreciated-stroke",
   "metadata": {},
   "outputs": [
    {
     "name": "stdout",
     "output_type": "stream",
     "text": [
      "<bound method BaseManager._get_queryset_methods.<locals>.create_method.<locals>.manager_method of <django.db.models.manager.Manager object at 0x7f68813937b8>>\n",
      "<class 'list'> 166699 {'formationenergy': 4830529}\n",
      "<class 'list'> 81438 1603 - LaF3\n",
      "<class 'list'> 81438 {'natoms': 24}\n",
      "<class 'list'> 81438 1603 - LaF3\n"
     ]
    }
   ],
   "source": [
    "print(list(Entry.objects.values))\n",
    "\n",
    "FE = list(Entry.objects.values('formationenergy'))[::10]\n",
    "FE1 = list(Entry.objects.annotate(n_structures=Count('formationenergy')))[::10]\n",
    "print(type(FE), len(FE), FE[0])\n",
    "print(type(FE1), len(FE1), FE1[0])\n",
    "\n",
    "n_atoms = list(Entry.objects.values('natoms'))[::10]\n",
    "n_atoms1 = list(Entry.objects.annotate(n_structures=Count('natoms')))[::10]\n",
    "print(type(n_atoms), len(n_atoms), n_atoms[0])\n",
    "print(type(n_atoms1), len(n_atoms1), n_atoms1[0])\n",
    "\n"
   ]
  },
  {
   "cell_type": "code",
   "execution_count": null,
   "id": "earned-peter",
   "metadata": {},
   "outputs": [],
   "source": [
    "FE = list(Entry.objects.values('formationenergy'))[::1000]\n",
    "# FE1 = list(Entry.objects.annotate(n_structures=Count('formationenergy')))[::1000]\n",
    "\n",
    "formE=[]\n",
    "formE1=[]\n",
    "for i in range(len(FE)):\n",
    "    formE.append(FE[i]['formationenergy'])\n",
    "    \n",
    "# for i in range(len(FE1)):\n",
    "#     formE1.append(FE1[i])\n",
    "\n",
    "sns.set(style=\"white\", palette=\"muted\", color_codes=True)\n",
    "# f, ax = plt.subplots(figsize=(9, 8))\n",
    "# sns.despine(left=True)\n",
    "\n",
    "# sns.histplot(data=formE1, stat=\"probability\", color='orange', discrete=True, label='Formation Energy (eV)')\n",
    "\n",
    "\n",
    "# ax.set_xlabel('Formation Energy (eV)')\n",
    "# plt.legend()\n",
    "# plt.xlim(0,100)\n",
    "# plt.savefig('oqmd_formE_occ.png', bbox_inches='tight', dpi=400)\n",
    "# plt.show()\n",
    "# plt.close()\n",
    "\n",
    "f, ax = plt.subplots(figsize=(9, 8))\n",
    "sns.despine(left=True)\n",
    "\n",
    "sns.histplot(data=formE, stat=\"probability\", color='r', discrete=True, label='Formation Energy (eV)')\n",
    "\n",
    "ax.set_xlabel('Formation Energy (eV)')\n",
    "plt.legend()\n",
    "plt.xlim(0,100)\n",
    "plt.savefig('oqmd_formE_occ.png', bbox_inches='tight', dpi=400)\n",
    "plt.show()\n",
    "plt.close()"
   ]
  },
  {
   "cell_type": "code",
   "execution_count": null,
   "id": "coordinate-coordinator",
   "metadata": {},
   "outputs": [],
   "source": []
  }
 ],
 "metadata": {
  "kernelspec": {
   "display_name": "Python 3",
   "language": "python",
   "name": "python3"
  },
  "language_info": {
   "codemirror_mode": {
    "name": "ipython",
    "version": 3
   },
   "file_extension": ".py",
   "mimetype": "text/x-python",
   "name": "python",
   "nbconvert_exporter": "python",
   "pygments_lexer": "ipython3",
   "version": "3.6.12"
  }
 },
 "nbformat": 4,
 "nbformat_minor": 5
}
