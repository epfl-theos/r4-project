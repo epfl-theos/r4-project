{
 "cells": [
  {
   "cell_type": "code",
   "execution_count": 1,
   "id": "fd5229b9",
   "metadata": {},
   "outputs": [],
   "source": [
    "%run modules.ipynb\n",
    "# Change this cell to change the kernel function throughout\n",
    "kernel_params = {\"kernel\": \"rbf\", \"gamma\": 1}\n",
    "kernel_func = partial(rbf_kernel, gamma=1)\n",
    "kernel_type = \"gaussian\"\n",
    "import multiprocessing\n",
    "from multiprocessing import Pool\n",
    "from time import sleep"
   ]
  },
  {
   "cell_type": "code",
   "execution_count": 2,
   "id": "e5ed82b8",
   "metadata": {},
   "outputs": [
    {
     "data": {
      "text/plain": [
       "<aiida.orm.querybuilder.QueryBuilder at 0x7ff24c6af9a0>"
      ]
     },
     "execution_count": 2,
     "metadata": {},
     "output_type": "execute_result"
    }
   ],
   "source": [
    "#dataset load\n",
    "len_dataset=79855\n",
    "load_profile('egazzarr')\n",
    "qb = QueryBuilder()\n",
    "qb.append(orm.StructureData)"
   ]
  },
  {
   "cell_type": "code",
   "execution_count": 3,
   "id": "13e68f28",
   "metadata": {},
   "outputs": [],
   "source": [
    "select=1000\n",
    "qb_red=random.sample(qb.all(), select)\n",
    "# qb_red=qb.all()[1000:2000]\n",
    "frames_ase=[]\n",
    "for [structure_data] in qb_red:\n",
    "    frame=structure_data.get_ase()\n",
    "    frame.wrap(eps=1e-12)\n",
    "    frames_ase.append(frame)"
   ]
  },
  {
   "cell_type": "code",
   "execution_count": 4,
   "id": "c741a0eb",
   "metadata": {},
   "outputs": [
    {
     "data": {
      "text/plain": [
       "((12398, 50), 107700)"
      ]
     },
     "execution_count": 4,
     "metadata": {},
     "output_type": "execute_result"
    }
   ],
   "source": [
    "select1=300\n",
    "\n",
    "frames_ase_random=random.sample(frames_ase, select1)\n",
    "\n",
    "n_FPS=50\n",
    "soap = SOAP(soap_type='PowerSpectrum',\n",
    "           interaction_cutoff=3.5,\n",
    "           max_radial=5,\n",
    "           max_angular=5,\n",
    "           gaussian_sigma_type='Constant',\n",
    "           gaussian_sigma_constant=0.4,\n",
    "           cutoff_smooth_width=0.5, \n",
    "           normalize=False)\n",
    "soap_rep= soap.transform(frames_ase_random)\n",
    "\n",
    "Xsparse = soap_rep.get_features(soap)\n",
    "col_idxs = FPS(n_features_to_select=n_FPS).fit(Xsparse).selected_idx_\n",
    "Xsparse = Xsparse[:, col_idxs]\n",
    "Xsparse.shape, max(col_idxs)\n"
   ]
  },
  {
   "cell_type": "code",
   "execution_count": null,
   "id": "8c925b62",
   "metadata": {},
   "outputs": [
    {
     "name": "stdout",
     "output_type": "stream",
     "text": [
      "(2499, 34650)\n",
      "(2499, 107701)\n",
      "(2499, 50)\n",
      "(1766, 35400)\n",
      "(1766, 107701)\n",
      "(1766, 50)\n",
      "(2371, 40050)\n",
      "(2371, 107701)\n",
      "(2371, 50)\n",
      "(1663, 37800)\n",
      "(1663, 107701)\n",
      "(1663, 50)\n",
      "(1741, 35550)\n",
      "(1741, 107701)\n",
      "(1741, 50)\n",
      "(1982, 29250)\n",
      "(1982, 107701)\n",
      "(1982, 50)\n",
      "(2784, 35400)\n",
      "(2784, 107701)\n",
      "(2784, 50)\n",
      "(2033, 35550)\n",
      "(2033, 107701)\n",
      "(2033, 50)\n",
      "(2261, 32100)\n",
      "(2261, 107701)\n",
      "(2261, 50)\n",
      "(3473, 34500)\n",
      "(3473, 107701)\n",
      "(3473, 50)\n",
      "(2316, 33150)\n",
      "(2316, 107701)\n",
      "(2316, 50)\n",
      "(2192, 31650)\n",
      "(2192, 107701)\n",
      "(2192, 50)\n",
      "(1928, 35100)\n"
     ]
    }
   ],
   "source": [
    "Xsparse_tot=[]\n",
    "#from here, cut:\n",
    "\n",
    "step=50\n",
    "for i in range(0, len(qb_red), step):\n",
    "    soap_rep= soap.transform(frames_ase[i:i+step])\n",
    "    Xsp = soap_rep.get_features(soap)\n",
    "    print(Xsp.shape)\n",
    "    z=[ [0] * (max(col_idxs)-len(Xsp[0])+1) for _ in range(len(Xsp))]\n",
    "    z=np.asarray(z)\n",
    "    Xsp=np.append(Xsp, z, axis=1)\n",
    "    print(Xsp.shape)\n",
    "    Xsp = Xsp[:, col_idxs]\n",
    "    print(Xsp.shape)\n",
    "    Xsparse_tot.append(Xsp)"
   ]
  },
  {
   "cell_type": "code",
   "execution_count": null,
   "id": "21ca279e",
   "metadata": {},
   "outputs": [],
   "source": [
    "Xrest=np.concatenate(Xsparse_tot)\n",
    "\n",
    "l=np.concatenate(frames_ase)\n",
    "\n",
    "Y=np.zeros((len(l), 1))\n",
    "\n",
    "natoms_list=[]\n",
    "start=0\n",
    "for frame in frames_ase:\n",
    "    natoms=(len(frame))\n",
    "    if natoms%4==0:\n",
    "        Y[start:int(start+natoms)] = int(2)\n",
    "    else:\n",
    "        Y[start:int(start+natoms)] = int(1)\n",
    "    start=start+natoms\n",
    "print(\"Y shape is:\"+ str(Y.shape))"
   ]
  },
  {
   "cell_type": "code",
   "execution_count": null,
   "id": "b636758d",
   "metadata": {},
   "outputs": [],
   "source": [
    "# Splits in train and test sets\n",
    "\n",
    "n_train = int(len(Y)/2)  \n",
    "n_test = len(Y)-n_train\n",
    "r_train = np.asarray(range(len(Y)))\n",
    "\n",
    "np.random.shuffle(r_train)\n",
    "\n",
    "i_test = list(sorted(r_train[n_train:]))\n",
    "i_train = list(sorted(r_train[:n_train]))\n",
    "\n",
    "X_train = Xrest[i_train]\n",
    "Y_train = Y[i_train]\n",
    "X_test = Xrest[i_test]\n",
    "Y_test = Y[i_test]\n",
    "\n",
    "print(f'Shape of training data is: {X_train.shape}, Shape of testing data is: {X_test.shape}, ||X|| = {np.linalg.norm(X_train)}.') \n",
    "print(X_train.shape, X_test.shape, Y_train.shape, Y_test.shape)\n",
    "\n",
    "if X_test.shape!=X_train.shape:\n",
    "    X_test=X_test[:-1,:]\n",
    "    Y_test=Y_test[:-1,:]\n",
    "    \n",
    "if X_test.shape!=X_train.shape and X_test.shape<X_train.shape:\n",
    "    X_train=X_train[:-1,:]\n",
    "    Y_train=Y_train[:-1,:]  \n",
    "\n",
    "    \n",
    "print(X_train.shape, X_test.shape, Y_train.shape, Y_test.shape)"
   ]
  },
  {
   "cell_type": "code",
   "execution_count": null,
   "id": "cee25db7",
   "metadata": {},
   "outputs": [],
   "source": [
    "x_scaler = StandardFlexibleScaler(column_wise=False).fit(X_train)\n",
    "y_scaler = StandardFlexibleScaler(column_wise=True).fit(Y_train)\n",
    "\n",
    "# Center total dataset\n",
    "X = x_scaler.transform(X)\n",
    "Y = y_scaler.transform(Y)\n",
    "\n",
    "# Center training data\n",
    "X_train = x_scaler.transform(X_train)\n",
    "Y_train = y_scaler.transform(Y_train)\n",
    "\n",
    "# Center training data\n",
    "X_test = x_scaler.transform(X_test)\n",
    "Y_test = y_scaler.transform(Y_test)"
   ]
  },
  {
   "cell_type": "code",
   "execution_count": null,
   "id": "a4d931e3",
   "metadata": {},
   "outputs": [],
   "source": [
    "kp = KPCovR(mixing=0.8, n_components=2, **kernel_params, center=True, alpha=1E-4)\n",
    "kp.fit(X_train, Y_train)\n",
    "print(kp.alpha)\n",
    "t = kp.transform(X_test)\n",
    "y = kp.predict(X_test)\n",
    "fig, ax = plt.subplots(1, 2, figsize=dbl_fig)\n",
    "\n",
    "plot_projection(Y_test, t, title=\"KPCovR\", fig=fig, ax=ax[0], **cmaps)\n",
    "plot_regression(Y_test[:, 0], y[:, 0], title=\"KPCovR\", fig=fig, ax=ax[1], **cmaps)"
   ]
  },
  {
   "cell_type": "code",
   "execution_count": null,
   "id": "fe1ca3f2",
   "metadata": {},
   "outputs": [],
   "source": [
    "K_train = gaussian_kernel(X_train, X_train)\n",
    "K_test = gaussian_kernel(X_test, X_train)\n",
    "\n",
    "k_scaler = KernelNormalizer().fit(K_train)\n",
    "\n",
    "K_train = k_scaler.transform(K_train)\n",
    "K_test = k_scaler.transform(K_test)"
   ]
  },
  {
   "cell_type": "code",
   "execution_count": null,
   "id": "9fae04d6",
   "metadata": {},
   "outputs": [],
   "source": [
    "regularization = 1e-3\n",
    "\n",
    "krr = KernelRidge(alpha=regularization, **kernel_params)\n",
    "\n",
    "krr.fit(K_train, Y_train)\n",
    "\n",
    "Y_krr_train = krr.predict(K_train)\n",
    "Y_krr_test = krr.predict(K_test)\n",
    "\n",
    "table_from_dict([get_stats(x=X_train, yp=Y_krr_train, y=Y_train, k=K_train), \n",
    "                 get_stats(x=X_test,  yp=Y_krr_test, y=Y_test, k=K_test)], \n",
    "                 headers = [\"Training\", \"Testing\"], \n",
    "                 title=\"Kernel Ridge Regression\")"
   ]
  },
  {
   "cell_type": "code",
   "execution_count": null,
   "id": "df7798ca",
   "metadata": {},
   "outputs": [],
   "source": [
    "\"\"\"How good is the model? 1 is best\"\"\"\n",
    "\n",
    "krr.score(K_test, Y_test)"
   ]
  },
  {
   "cell_type": "code",
   "execution_count": null,
   "id": "9f955b20",
   "metadata": {},
   "outputs": [],
   "source": [
    "type_kernel=['linear', 'poly', 'rbf']\n",
    "\n",
    "for i in range(len(type_kernel)):\n",
    "    \n",
    "    poly_kernel_svm_clf = Pipeline((\n",
    "            (\"scaler\", StandardScaler()),\n",
    "            (\"svm_clf\", SVC(kernel=str(type_kernel[i]), degree=5, coef0=0.9, C=5))\n",
    "            ))\n",
    "\n",
    "    print(str(type_kernel[i])+': '+ str(poly_kernel_svm_clf.fit(t, Y_test.ravel()). score(t,Y_test.ravel())))\n"
   ]
  },
  {
   "cell_type": "code",
   "execution_count": null,
   "id": "1f831414",
   "metadata": {},
   "outputs": [],
   "source": [
    "train_sizes, train_scores, valid_scores = learning_curve(\n",
    "                                    SVC(kernel='linear'), Xrest, Y, train_sizes=[50, 80, 110], cv=5)"
   ]
  },
  {
   "cell_type": "code",
   "execution_count": null,
   "id": "57fda3b5",
   "metadata": {},
   "outputs": [],
   "source": []
  }
 ],
 "metadata": {
  "kernelspec": {
   "display_name": "aiida",
   "language": "python",
   "name": "aiida"
  },
  "language_info": {
   "codemirror_mode": {
    "name": "ipython",
    "version": 3
   },
   "file_extension": ".py",
   "mimetype": "text/x-python",
   "name": "python",
   "nbconvert_exporter": "python",
   "pygments_lexer": "ipython3",
   "version": "3.8.8"
  }
 },
 "nbformat": 4,
 "nbformat_minor": 5
}
